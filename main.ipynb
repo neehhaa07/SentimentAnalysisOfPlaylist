{
 "cells": [
  {
   "cell_type": "markdown",
   "metadata": {},
   "source": [
    "# Importing the modules\n"
   ]
  },
  {
   "cell_type": "code",
   "execution_count": 1,
   "metadata": {},
   "outputs": [],
   "source": [
    "import os\n",
    "import pandas as pd\n",
    "import lyricsgenius as lg\n",
    "import spotipy\n",
    "import time\n",
    "import matplotlib.pyplot as plt \n",
    "import seaborn as sns\n",
    "plt.style.use('ggplot')"
   ]
  },
  {
   "cell_type": "markdown",
   "metadata": {},
   "source": [
    "# Access Tokens"
   ]
  },
  {
   "cell_type": "code",
   "execution_count": 2,
   "metadata": {},
   "outputs": [],
   "source": [
    "spotipy_client_id = 'c3e43077142f4e7bb70601747bd1f0d2'\n",
    "spotipy_client_secret = '925f7025c8e6420f9be665401784c0f6'\n",
    "spotipy_redirect_uri = 'https://google.com'\n",
    "genius_access_token = 'jVHnDFkBvrvEsj_M8YUxbQ9t8mo2zIG19giBxlX_g7NeRz4W51gedM1YHTBX_U-4'"
   ]
  },
  {
   "cell_type": "code",
   "execution_count": 3,
   "metadata": {},
   "outputs": [],
   "source": [
    "df = pd.read_excel('music.xlsx')"
   ]
  },
  {
   "cell_type": "code",
   "execution_count": 4,
   "metadata": {},
   "outputs": [
    {
     "data": {
      "text/plain": [
       "neg    50\n",
       "pos    49\n",
       "Name: sentiment, dtype: int64"
      ]
     },
     "execution_count": 4,
     "metadata": {},
     "output_type": "execute_result"
    }
   ],
   "source": [
    "df['sentiment'].value_counts()"
   ]
  },
  {
   "cell_type": "code",
   "execution_count": 5,
   "metadata": {},
   "outputs": [
    {
     "data": {
      "text/html": [
       "<div>\n",
       "<style scoped>\n",
       "    .dataframe tbody tr th:only-of-type {\n",
       "        vertical-align: middle;\n",
       "    }\n",
       "\n",
       "    .dataframe tbody tr th {\n",
       "        vertical-align: top;\n",
       "    }\n",
       "\n",
       "    .dataframe thead th {\n",
       "        text-align: right;\n",
       "    }\n",
       "</style>\n",
       "<table border=\"1\" class=\"dataframe\">\n",
       "  <thead>\n",
       "    <tr style=\"text-align: right;\">\n",
       "      <th></th>\n",
       "      <th>Unnamed: 0</th>\n",
       "      <th>artists</th>\n",
       "      <th>track</th>\n",
       "      <th>mood</th>\n",
       "      <th>sentiment</th>\n",
       "      <th>lyrics</th>\n",
       "    </tr>\n",
       "  </thead>\n",
       "  <tbody>\n",
       "    <tr>\n",
       "      <th>0</th>\n",
       "      <td>0</td>\n",
       "      <td>Usher</td>\n",
       "      <td>There Goes My Baby</td>\n",
       "      <td>relaxed</td>\n",
       "      <td>pos</td>\n",
       "      <td>There Goes My Baby Lyrics[Produced by Jim Jons...</td>\n",
       "    </tr>\n",
       "    <tr>\n",
       "      <th>1</th>\n",
       "      <td>1</td>\n",
       "      <td>Da'Ville</td>\n",
       "      <td>On My Mind</td>\n",
       "      <td>relaxed</td>\n",
       "      <td>pos</td>\n",
       "      <td>On My Mind LyricsAhhhhhhhh\\nYou're om my mind\\...</td>\n",
       "    </tr>\n",
       "    <tr>\n",
       "      <th>2</th>\n",
       "      <td>2</td>\n",
       "      <td>Rihanna</td>\n",
       "      <td>Rockstar 101</td>\n",
       "      <td>relaxed</td>\n",
       "      <td>pos</td>\n",
       "      <td>ROCKSTAR 101 Lyrics[Intro]\\nI told ya, I told ...</td>\n",
       "    </tr>\n",
       "  </tbody>\n",
       "</table>\n",
       "</div>"
      ],
      "text/plain": [
       "   Unnamed: 0   artists               track     mood sentiment  \\\n",
       "0           0     Usher  There Goes My Baby  relaxed       pos   \n",
       "1           1  Da'Ville          On My Mind  relaxed       pos   \n",
       "2           2   Rihanna       Rockstar 101   relaxed       pos   \n",
       "\n",
       "                                              lyrics  \n",
       "0  There Goes My Baby Lyrics[Produced by Jim Jons...  \n",
       "1  On My Mind LyricsAhhhhhhhh\\nYou're om my mind\\...  \n",
       "2  ROCKSTAR 101 Lyrics[Intro]\\nI told ya, I told ...  "
      ]
     },
     "execution_count": 5,
     "metadata": {},
     "output_type": "execute_result"
    }
   ],
   "source": [
    "df.head(3)"
   ]
  },
  {
   "cell_type": "code",
   "execution_count": 6,
   "metadata": {},
   "outputs": [],
   "source": [
    "df=df[['artists','track','sentiment']]"
   ]
  },
  {
   "cell_type": "markdown",
   "metadata": {},
   "source": [
    "# Plotting"
   ]
  },
  {
   "cell_type": "code",
   "execution_count": 7,
   "metadata": {},
   "outputs": [
    {
     "data": {
      "text/plain": [
       "Text(0.5, 0, 'Sentiments')"
      ]
     },
     "execution_count": 7,
     "metadata": {},
     "output_type": "execute_result"
    },
    {
     "data": {
      "image/png": "[encoded data removed]",
      "text/plain": [
       "<Figure size 720x360 with 1 Axes>"
      ]
     },
     "metadata": {},
     "output_type": "display_data"
    }
   ],
   "source": [
    "graph = df['sentiment'].value_counts().sort_index().plot(kind='bar',title='Number of Each sentiments',figsize=(10,5))\n",
    "graph.set_xlabel('Sentiments')"
   ]
  },
  {
   "cell_type": "markdown",
   "metadata": {},
   "source": [
    "# Genius API"
   ]
  },
  {
   "cell_type": "code",
   "execution_count": 8,
   "metadata": {},
   "outputs": [],
   "source": [
    "genius = lg.Genius(genius_access_token)\n"
   ]
  },
  {
   "cell_type": "code",
   "execution_count": 11,
   "metadata": {},
   "outputs": [
    {
     "name": "stdout",
     "output_type": "stream",
     "text": [
      "Searching for \"There Goes My Baby\" by Usher...\n",
      "Done.\n",
      "Searching for \"On My Mind\" by Da'Ville...\n",
      "Done.\n",
      "Searching for \"Rockstar 101 \" by Rihanna...\n",
      "Done.\n",
      "Searching for \"Bed\" by J. Holiday...\n",
      "Done.\n",
      "Searching for \"Don't Haffi Dread\" by Morgan Heritage...\n",
      "Done.\n",
      "Searching for \"My Love Is Your Love\" by Whitney Houston...\n",
      "Done.\n",
      "Searching for \"Study People\" by Serani...\n",
      "Done.\n",
      "Searching for \"Spellwork\" by Austra...\n",
      "Done.\n",
      "Searching for \"Can't Let You Go\" by Coro...\n",
      "Done.\n",
      "Searching for \"Slam\" by Beenie Man...\n",
      "Done.\n",
      "Searching for \"Love Him Like I Do \" by Deitrick Haddon...\n",
      "Done.\n",
      "Searching for \"ABC\" by The Jackson 5...\n",
      "Done.\n",
      "Searching for \"The Lady In My Life\" by Maysa...\n",
      "Done.\n",
      "Searching for \"We Got Love\" by Ryan Shaw...\n",
      "Done.\n",
      "Searching for \"I Love How You Love Me\" by The Paris Sisters...\n",
      "Done.\n",
      "Searching for \"I Came To Jesus\" by New Direction...\n",
      "Done.\n",
      "Searching for \"God Great God\" by Kurt Carr & The Kurt Carr Singers...\n",
      "Done.\n",
      "Searching for \"And I Love Her\" by Kenny Lattimore...\n",
      "Done.\n",
      "Searching for \"Battlefield\" by Jordin Sparks...\n",
      "Done.\n",
      "Searching for \"You Got Yr. Cherry Bomb\" by Spoon...\n",
      "Done.\n",
      "Searching for \"Peace Of God\" by Tarralyn Ramsey...\n",
      "No results found for: 'Peace Of God Tarralyn Ramsey'\n",
      "Searching for \"One\" by Tyrese...\n",
      "Done.\n",
      "Searching for \"Where'd All The Time Go?\" by Dr. Dog...\n",
      "Done.\n",
      "Searching for \"Unconditional Love\" by Tarralyn Ramsey...\n",
      "Done.\n",
      "Searching for \"Steppin' Into Love\" by Kool & The Gang...\n",
      "Done.\n",
      "Searching for \"Darkness At The Bottom\" by Anders Osborne...\n",
      "No results found for: 'Darkness At The Bottom Anders Osborne'\n",
      "Searching for \"Gimme Shelter\" by The Rolling Stones...\n",
      "Done.\n",
      "Searching for \"Happy\" by The Rolling Stones...\n",
      "Done.\n",
      "Searching for \"Detroit City\" by Bobby Bare...\n",
      "Done.\n",
      "Searching for \"Got No Reason Now For Goin' Home\" by Gene Watson...\n",
      "Done.\n",
      "Searching for \"El Rey\" by George Strait...\n",
      "Done.\n",
      "Searching for \"Don't Worry\" by Playing For Change...\n",
      "Done.\n",
      "Searching for \"Melody\" by The Rolling Stones...\n",
      "Done.\n",
      "Searching for \"Fixed\" by Stars...\n",
      "Done.\n",
      "Searching for \"Where Is The Love\" by Betty Wright...\n",
      "Done.\n",
      "Searching for \"You Are Not Alone\" by Mavis Staples...\n",
      "Done.\n",
      "Searching for \"Not Fade Away\" by The Rolling Stones...\n",
      "Done.\n",
      "Searching for \"God Only Knows\" by The Beach Boys...\n",
      "Done.\n",
      "Searching for \"Blind\" by Korn...\n",
      "Done.\n",
      "Searching for \"Angry Again\" by Megadeth...\n",
      "Done.\n",
      "Searching for \"Do You Call My Name\" by Ra...\n",
      "Done.\n",
      "Searching for \"Nightmare\" by Avenged Sevenfold...\n",
      "Done.\n",
      "Searching for \"Scream With Me\" by Mudvayne...\n",
      "Done.\n",
      "Searching for \"Dirthouse\" by Static-X...\n",
      "Done.\n",
      "Searching for \"Cyanide\" by Metallica...\n",
      "Done.\n",
      "Searching for \"Longview\" by Green Day...\n",
      "Done.\n",
      "Searching for \"Rape Me\" by Nirvana...\n",
      "Done.\n",
      "Searching for \"Sweet Dreams \" by Marilyn Manson...\n",
      "Done.\n",
      "Searching for \"Mudshovel\" by Staind...\n",
      "Done.\n",
      "Searching for \"This Love\" by Pantera...\n",
      "Done.\n",
      "Searching for \"Send The Pain Below\" by Chevelle...\n",
      "Done.\n",
      "Searching for \"Scar Tissue\" by The Red Hot Chili Peppers...\n",
      "Done.\n",
      "Searching for \"Harvester Of Sorrow\" by Metallica...\n",
      "Done.\n",
      "Searching for \"Civil War\" by Guns N' Roses...\n",
      "Done.\n",
      "Searching for \"King Of Nothing\" by Shadows Fall...\n",
      "Done.\n",
      "Searching for \"Do Yourself A Favor\" by Comeback Kid...\n",
      "Done.\n",
      "Searching for \"Superbeast\" by Rob Zombie...\n",
      "Done.\n",
      "Searching for \"Why Go\" by Pearl Jam...\n",
      "Done.\n",
      "Searching for \"Rock You Like A Hurricane\" by Scorpions...\n",
      "Done.\n",
      "Searching for \"Terrible Lie\" by Nine Inch Nails...\n",
      "Done.\n",
      "Searching for \"Wicked Garden\" by Stone Temple Pilots...\n",
      "Done.\n",
      "Searching for \"Bullet With Butterfly Wings\" by Smashing Pumpkins...\n",
      "Done.\n",
      "Searching for \"Come As You Are\" by Nirvana...\n",
      "Done.\n",
      "Searching for \"War Pigs\" by Black Sabbath...\n",
      "Done.\n",
      "Searching for \"Everything I've Known\" by Korn...\n",
      "Done.\n",
      "Searching for \"Indestructible\" by Disturbed...\n",
      "Done.\n",
      "Searching for \"Riot\" by Three Days Grace...\n",
      "Done.\n",
      "Searching for \"Free And Easy \" by Dierks Bentley...\n",
      "Done.\n",
      "Searching for \"When The Sun Goes Down \" by Kenny Chesney...\n",
      "Done.\n",
      "Searching for \"Free\" by Zac Brown Band...\n",
      "Done.\n",
      "Searching for \"Tell Me You Get Lonely\" by Frankie Ballard...\n",
      "Done.\n",
      "Searching for \"The Way You Love Me\" by Faith Hill...\n",
      "Done.\n",
      "Searching for \"Home\" by Blake Shelton...\n",
      "Done.\n",
      "Searching for \"Your Man\" by Josh Turner...\n",
      "Done.\n",
      "Searching for \"Welcome To My Nightmare\" by Alice Cooper...\n",
      "Done.\n",
      "Searching for \"Rock And Roll\" by Led Zeppelin...\n",
      "Done.\n",
      "Searching for \"I Hate Myself For Loving You\" by Joan Jett & The Blackhearts...\n",
      "Done.\n",
      "Searching for \"Lie To Me\" by Jonny Lang...\n",
      "Done.\n",
      "Searching for \"Love Her Madly\" by The Doors...\n",
      "Done.\n",
      "Searching for \"Cocaine\" by Eric Clapton...\n",
      "Done.\n",
      "Searching for \"Smoking Gun\" by Robert Cray...\n",
      "Done.\n",
      "Searching for \"Somebody To Love\" by Jefferson Airplane...\n",
      "Done.\n",
      "Searching for \"Heart Of Gold\" by Neil Young...\n",
      "Done.\n",
      "Searching for \"Let Me Take You Home Tonight\" by Boston...\n",
      "Done.\n",
      "Searching for \"Still Loving You\" by Scorpions...\n",
      "Done.\n",
      "Searching for \"Don't Tell Me You Love Me\" by Night Ranger...\n",
      "Done.\n",
      "Searching for \"That Smell\" by Lynyrd Skynyrd...\n",
      "Done.\n",
      "Searching for \"Hit Me With Your Best Shot\" by Pat Benatar...\n",
      "Done.\n",
      "Searching for \"Paradise City\" by Guns N' Roses...\n",
      "Done.\n",
      "Searching for \"I've Seen All Good People\" by Yes...\n",
      "Done.\n",
      "Searching for \"Home Sweet Home\" by Motley Crue...\n",
      "Done.\n",
      "Searching for \"You Got That Right\" by Lynyrd Skynyrd...\n",
      "Done.\n",
      "Searching for \"Feel Like Makin' Love\" by Bad Company...\n",
      "Done.\n",
      "Searching for \"Locomotive Breath\" by Jethro Tull...\n",
      "Done.\n",
      "Searching for \"Can't Get Enough\" by Bad Company...\n",
      "Done.\n",
      "Searching for \"Love Reign O'er Me\" by The Who...\n",
      "Done.\n",
      "Searching for \"Fame\" by David Bowie...\n",
      "Done.\n",
      "Searching for \"Undercover Lover\" by Three Plus...\n",
      "Done.\n",
      "Searching for \"Honey Baby\" by Three Plus...\n",
      "Done.\n"
     ]
    }
   ],
   "source": [
    "l=[]\n",
    "for i in range(len(df['track'])):\n",
    "  song = genius.search_song(title=df['track'][i],artist=df['artists'][i])\n",
    "  if song != None:\n",
    "    lyrics = song.lyrics\n",
    "    l.append(lyrics)\n",
    "  else:\n",
    "    l.append(None)\n",
    "\n",
    "lyrics_df = pd.DataFrame()\n",
    "lyrics_df['lyrics'] = l"
   ]
  },
  {
   "cell_type": "code",
   "execution_count": 12,
   "metadata": {},
   "outputs": [
    {
     "data": {
      "text/html": [
       "<div>\n",
       "<style scoped>\n",
       "    .dataframe tbody tr th:only-of-type {\n",
       "        vertical-align: middle;\n",
       "    }\n",
       "\n",
       "    .dataframe tbody tr th {\n",
       "        vertical-align: top;\n",
       "    }\n",
       "\n",
       "    .dataframe thead th {\n",
       "        text-align: right;\n",
       "    }\n",
       "</style>\n",
       "<table border=\"1\" class=\"dataframe\">\n",
       "  <thead>\n",
       "    <tr style=\"text-align: right;\">\n",
       "      <th></th>\n",
       "      <th>artists</th>\n",
       "      <th>track</th>\n",
       "      <th>sentiment</th>\n",
       "      <th>lyrics</th>\n",
       "    </tr>\n",
       "  </thead>\n",
       "  <tbody>\n",
       "    <tr>\n",
       "      <th>0</th>\n",
       "      <td>Usher</td>\n",
       "      <td>There Goes My Baby</td>\n",
       "      <td>pos</td>\n",
       "      <td>There Goes My Baby Lyrics[Produced by Jim Jons...</td>\n",
       "    </tr>\n",
       "    <tr>\n",
       "      <th>1</th>\n",
       "      <td>Da'Ville</td>\n",
       "      <td>On My Mind</td>\n",
       "      <td>pos</td>\n",
       "      <td>On My Mind LyricsAhhhhhhhh\\nYou're om my mind\\...</td>\n",
       "    </tr>\n",
       "    <tr>\n",
       "      <th>2</th>\n",
       "      <td>Rihanna</td>\n",
       "      <td>Rockstar 101</td>\n",
       "      <td>pos</td>\n",
       "      <td>ROCKSTAR 101 Lyrics[Intro]\\nI told ya, I told ...</td>\n",
       "    </tr>\n",
       "    <tr>\n",
       "      <th>3</th>\n",
       "      <td>J. Holiday</td>\n",
       "      <td>Bed</td>\n",
       "      <td>pos</td>\n",
       "      <td>Bed Lyrics[Written by The-Dream and Los Da Mys...</td>\n",
       "    </tr>\n",
       "    <tr>\n",
       "      <th>4</th>\n",
       "      <td>Morgan Heritage</td>\n",
       "      <td>Don't Haffi Dread</td>\n",
       "      <td>neg</td>\n",
       "      <td>Don’t Haffi Dread LyricsYeah, yeah, yeah - rag...</td>\n",
       "    </tr>\n",
       "  </tbody>\n",
       "</table>\n",
       "</div>"
      ],
      "text/plain": [
       "           artists               track sentiment  \\\n",
       "0            Usher  There Goes My Baby       pos   \n",
       "1         Da'Ville          On My Mind       pos   \n",
       "2          Rihanna       Rockstar 101        pos   \n",
       "3       J. Holiday                 Bed       pos   \n",
       "4  Morgan Heritage   Don't Haffi Dread       neg   \n",
       "\n",
       "                                              lyrics  \n",
       "0  There Goes My Baby Lyrics[Produced by Jim Jons...  \n",
       "1  On My Mind LyricsAhhhhhhhh\\nYou're om my mind\\...  \n",
       "2  ROCKSTAR 101 Lyrics[Intro]\\nI told ya, I told ...  \n",
       "3  Bed Lyrics[Written by The-Dream and Los Da Mys...  \n",
       "4  Don’t Haffi Dread LyricsYeah, yeah, yeah - rag...  "
      ]
     },
     "execution_count": 12,
     "metadata": {},
     "output_type": "execute_result"
    }
   ],
   "source": [
    "# join both data frames\n",
    "df = pd.concat([df, lyrics_df], axis=1, join='inner')\n",
    "df.head()"
   ]
  },
  {
   "cell_type": "code",
   "execution_count": 13,
   "metadata": {},
   "outputs": [],
   "source": [
    "# save data frame to excel\n",
    "df.to_excel('music.xlsx')"
   ]
  },
  {
   "cell_type": "markdown",
   "metadata": {},
   "source": [
    "# <b>Data Preprocessing</b>"
   ]
  },
  {
   "cell_type": "markdown",
   "metadata": {},
   "source": [
    "### <b>1.Data Cleaning</b>"
   ]
  },
  {
   "cell_type": "markdown",
   "metadata": {},
   "source": [
    "#### Checking for missing values\n"
   ]
  },
  {
   "cell_type": "code",
   "execution_count": 14,
   "metadata": {},
   "outputs": [
    {
     "data": {
      "text/plain": [
       "artists      0\n",
       "track        0\n",
       "sentiment    0\n",
       "lyrics       2\n",
       "dtype: int64"
      ]
     },
     "execution_count": 14,
     "metadata": {},
     "output_type": "execute_result"
    }
   ],
   "source": [
    "df.isna().sum()"
   ]
  },
  {
   "cell_type": "code",
   "execution_count": 15,
   "metadata": {},
   "outputs": [],
   "source": [
    "df.dropna(how='any',inplace=True)"
   ]
  },
  {
   "cell_type": "markdown",
   "metadata": {},
   "source": [
    "#### Checking for Duplicate values"
   ]
  },
  {
   "cell_type": "code",
   "execution_count": 16,
   "metadata": {},
   "outputs": [
    {
     "data": {
      "text/plain": [
       "0"
      ]
     },
     "execution_count": 16,
     "metadata": {},
     "output_type": "execute_result"
    }
   ],
   "source": [
    "df['track'].duplicated().sum()\n"
   ]
  },
  {
   "cell_type": "code",
   "execution_count": 17,
   "metadata": {},
   "outputs": [],
   "source": [
    "df.drop_duplicates(subset='track',keep='last',inplace=True)\n"
   ]
  },
  {
   "cell_type": "code",
   "execution_count": 18,
   "metadata": {},
   "outputs": [
    {
     "data": {
      "text/plain": [
       "neg    49\n",
       "pos    48\n",
       "Name: sentiment, dtype: int64"
      ]
     },
     "execution_count": 18,
     "metadata": {},
     "output_type": "execute_result"
    }
   ],
   "source": [
    "df['sentiment'].value_counts()"
   ]
  },
  {
   "cell_type": "markdown",
   "metadata": {},
   "source": [
    "### <b>2.Tokenization</b>"
   ]
  },
  {
   "cell_type": "code",
   "execution_count": 19,
   "metadata": {},
   "outputs": [
    {
     "name": "stderr",
     "output_type": "stream",
     "text": [
      "[nltk_data] Downloading package punkt to\n",
      "[nltk_data]     C:\\Users\\91635\\AppData\\Roaming\\nltk_data...\n",
      "[nltk_data]   Package punkt is already up-to-date!\n"
     ]
    },
    {
     "data": {
      "text/plain": [
       "True"
      ]
     },
     "execution_count": 19,
     "metadata": {},
     "output_type": "execute_result"
    }
   ],
   "source": [
    "import re\n",
    "import string\n",
    "import nltk\n",
    "from nltk.tokenize import word_tokenize\n",
    "nltk.download('punkt')"
   ]
  },
  {
   "cell_type": "code",
   "execution_count": 20,
   "metadata": {},
   "outputs": [],
   "source": [
    "def preprocessText(text, remove_stops=False):\n",
    "    \n",
    "    # Remove everything between hard brackets\n",
    "    text = re.sub(pattern=\"\\[.+?\\]( )?\", repl='', string=text)\n",
    "\n",
    "    # Change \"walkin'\" to \"walking\", for example\n",
    "    text = re.sub(pattern=\"n\\\\\\' \", repl='ng ', string=text)\n",
    "\n",
    "    # Remove x4 and (x4), for example\n",
    "    text = re.sub(pattern=\"(\\()?x\\d+(\\))?\", repl=' ', string=text)\n",
    "\n",
    "    # Fix apostrophe issues\n",
    "    text= re.sub(pattern=\"\\\\x91\", repl=\"'\", string=text)\n",
    "    text = re.sub(pattern=\"\\\\x92\", repl=\"'\", string=text)\n",
    "    text= re.sub(pattern=\"<u\\+0092>\", repl=\"'\", string=text)\n",
    "    \n",
    "    # Make lowercase\n",
    "    text = text.lower()\n",
    "\n",
    "    # Remove \\n from beginning\n",
    "    text = re.sub(pattern='^\\n', repl=' ', string=text)\n",
    "\n",
    "    # Strip , ! ?, : and remaining \\n from lyrics\n",
    "    text = ''.join([char.strip(\",!?:\") for char in text])\n",
    "    text = text.replace('\\n', '  ')\n",
    "    \n",
    "    # Remove contractions\n",
    "    # specific\n",
    "    text = re.sub(r\"won't\", \"will not\", text)\n",
    "    text = re.sub(r\"won\\’t\", \"will not\", text)\n",
    "    text = re.sub(r\"can't\", \"can not\", text)\n",
    "    text = re.sub(r\"can\\’t\", \"can not\", text)\n",
    "    text = re.sub(r\"let's\", \"let us\", text)\n",
    "    text = re.sub(r\"let\\’s\", \"let us\", text)\n",
    "    text = re.sub(r\"ain't\", \"aint\", text)\n",
    "    text = re.sub(r\"ain\\’t\", \"aint\", text)\n",
    "    text = re.sub(r\"wanna\", \"want to\", text)\n",
    "    text = re.sub(r\"gonna\", \"going to\", text)\n",
    "    text = re.sub(r\"gotta\", \"go to\", text)\n",
    "    \n",
    "    # general\n",
    "    text = re.sub(r\"n\\'t\", \" not\", text)\n",
    "    text = re.sub(r\"\\'re\", \" are\", text)\n",
    "    text = re.sub(r\"\\'s\", \" is\", text)\n",
    "    text = re.sub(r\"\\'d\", \" would\", text)\n",
    "    text = re.sub(r\"\\'ll\", \" will\", text)\n",
    "    text = re.sub(r\"\\'t\", \" not\", text)\n",
    "    text = re.sub(r\"\\'ve\", \" have\", text)\n",
    "    text = re.sub(r\"\\'m\", \" am\", text)\n",
    "    text = re.sub(r\"n\\’t\", \" not\", text)\n",
    "    text = re.sub(r\"\\’re\", \" are\", text)\n",
    "    text = re.sub(r\"\\’s\", \" is\", text)\n",
    "    text = re.sub(r\"\\’d\", \" would\", text)\n",
    "    text = re.sub(r\"\\’ll\", \" will\", text)\n",
    "    text = re.sub(r\"\\’t\", \" not\", text)\n",
    "    text = re.sub(r\"\\’ve\", \" have\", text)\n",
    "    text = re.sub(r\"\\’m\", \" am\", text)\n",
    "    text = re.sub(r\"\\â\", \"a\", text)\n",
    "    \n",
    "    # Remove Symbols\n",
    "    text = re.sub(r\"[^\\w\\s]\",\"\", text)\n",
    "    \n",
    "    # remove single char\n",
    "    text = re.sub(r\"\\b[a-zA-Z]\\b\",\"\", text)\n",
    "   \n",
    "    #remove number\n",
    "    text = re.sub(r\"\\d+\", \"\", text)\n",
    "    \n",
    "    #remove duplicate char(oohhh,ohhhh,oohhhh,etc)\n",
    "    text = re.sub(r\"o+h\", \"oh\", text)\n",
    "    text = re.sub(r\"oh+\", \"\", text)\n",
    "    \n",
    "    # Remove remaining punctuation\n",
    "    punc = string.punctuation\n",
    "    text = ''.join([char for char in text if char not in punc])\n",
    "\n",
    "    # Remove double spaces and beginning/trailing whitespace\n",
    "    text = re.sub(pattern='( ){2,}', repl=' ', string=text)\n",
    "    text = text.strip()\n",
    "    \n",
    "    return(text)\n",
    "\n",
    "df['lyrics'] = df['lyrics'].apply(preprocessText)"
   ]
  },
  {
   "cell_type": "markdown",
   "metadata": {},
   "source": [
    "### <b>3.Stopwords Removal</b>"
   ]
  },
  {
   "cell_type": "code",
   "execution_count": 21,
   "metadata": {},
   "outputs": [],
   "source": [
    "import neattext.functions as nfx\n"
   ]
  },
  {
   "cell_type": "code",
   "execution_count": 22,
   "metadata": {},
   "outputs": [],
   "source": [
    "df['lyrics'] = df['lyrics'].apply(nfx.remove_stopwords)"
   ]
  },
  {
   "cell_type": "code",
   "execution_count": 32,
   "metadata": {},
   "outputs": [
    {
     "data": {
      "text/html": [
       "<div>\n",
       "<style scoped>\n",
       "    .dataframe tbody tr th:only-of-type {\n",
       "        vertical-align: middle;\n",
       "    }\n",
       "\n",
       "    .dataframe tbody tr th {\n",
       "        vertical-align: top;\n",
       "    }\n",
       "\n",
       "    .dataframe thead th {\n",
       "        text-align: right;\n",
       "    }\n",
       "</style>\n",
       "<table border=\"1\" class=\"dataframe\">\n",
       "  <thead>\n",
       "    <tr style=\"text-align: right;\">\n",
       "      <th></th>\n",
       "      <th>artists</th>\n",
       "      <th>track</th>\n",
       "      <th>sentiment</th>\n",
       "      <th>lyrics</th>\n",
       "      <th>lyrics_lemma</th>\n",
       "    </tr>\n",
       "  </thead>\n",
       "  <tbody>\n",
       "    <tr>\n",
       "      <th>0</th>\n",
       "      <td>Usher</td>\n",
       "      <td>There Goes My Baby</td>\n",
       "      <td>pos</td>\n",
       "      <td>goes baby lyrics yeah right usher baby okay ye...</td>\n",
       "      <td>[goe, babi, lyric, yeah, right, usher, babi, o...</td>\n",
       "    </tr>\n",
       "    <tr>\n",
       "      <th>1</th>\n",
       "      <td>Da'Ville</td>\n",
       "      <td>On My Mind</td>\n",
       "      <td>pos</td>\n",
       "      <td>mind lyricsahhhhhhhh om mind yea verse thinkin...</td>\n",
       "      <td>[mind, lyricsahhhhhhhh, om, mind, yea, vers, t...</td>\n",
       "    </tr>\n",
       "    <tr>\n",
       "      <th>2</th>\n",
       "      <td>Rihanna</td>\n",
       "      <td>Rockstar 101</td>\n",
       "      <td>pos</td>\n",
       "      <td>rockstar lyrics told ya told ya told ya baby b...</td>\n",
       "      <td>[rockstar, lyric, told, ya, told, ya, told, ya...</td>\n",
       "    </tr>\n",
       "  </tbody>\n",
       "</table>\n",
       "</div>"
      ],
      "text/plain": [
       "    artists               track sentiment  \\\n",
       "0     Usher  There Goes My Baby       pos   \n",
       "1  Da'Ville          On My Mind       pos   \n",
       "2   Rihanna       Rockstar 101        pos   \n",
       "\n",
       "                                              lyrics  \\\n",
       "0  goes baby lyrics yeah right usher baby okay ye...   \n",
       "1  mind lyricsahhhhhhhh om mind yea verse thinkin...   \n",
       "2  rockstar lyrics told ya told ya told ya baby b...   \n",
       "\n",
       "                                        lyrics_lemma  \n",
       "0  [goe, babi, lyric, yeah, right, usher, babi, o...  \n",
       "1  [mind, lyricsahhhhhhhh, om, mind, yea, vers, t...  \n",
       "2  [rockstar, lyric, told, ya, told, ya, told, ya...  "
      ]
     },
     "execution_count": 32,
     "metadata": {},
     "output_type": "execute_result"
    }
   ],
   "source": [
    "df.head(3)"
   ]
  },
  {
   "cell_type": "markdown",
   "metadata": {},
   "source": [
    "# Vader Algorithm"
   ]
  },
  {
   "cell_type": "code",
   "execution_count": 45,
   "metadata": {},
   "outputs": [],
   "source": [
    "from vaderSentiment.vaderSentiment import SentimentIntensityAnalyzer\n",
    "\n",
    "analyser = SentimentIntensityAnalyzer()\n",
    "\n",
    "sentiment_list = []\n",
    "sentiment_score_list = []\n",
    "\n",
    "for i in df['lyrics']:\n",
    "    try:\n",
    "        sentiment_score = analyser.polarity_scores(i)\n",
    "\n",
    "        if sentiment_score['compound'] >= 0.2:\n",
    "            sentiment_percentage = sentiment_score['compound']\n",
    "            sentiment = 'Positive'\n",
    "        elif sentiment_score['compound'] > -0.2 and sentiment_score['compound'] < 0.2:\n",
    "            sentiment_percentage = sentiment_score['compound']\n",
    "            sentiment = 'Neutral'\n",
    "        elif sentiment_score['compound'] <= -0.2:\n",
    "            sentiment_percentage = sentiment_score['compound']\n",
    "            sentiment = 'Negative'\n",
    "\n",
    "        sentiment_list.append(sentiment)\n",
    "        sentiment_score_list.append((abs(sentiment_percentage) * 100))\n",
    "        \n",
    "    except:\n",
    "        sentiment_list.append('None')\n",
    "        sentiment_score_list.append(0)\n",
    "\n",
    "df['vader_sentiment'] = sentiment_list\n"
   ]
  },
  {
   "cell_type": "code",
   "execution_count": 46,
   "metadata": {},
   "outputs": [
    {
     "data": {
      "text/plain": [
       "Positive    58\n",
       "Negative    36\n",
       "Neutral      3\n",
       "Name: vader_sentiment, dtype: int64"
      ]
     },
     "execution_count": 46,
     "metadata": {},
     "output_type": "execute_result"
    }
   ],
   "source": [
    "df.vader_sentiment.value_counts()"
   ]
  },
  {
   "cell_type": "code",
   "execution_count": 47,
   "metadata": {},
   "outputs": [
    {
     "data": {
      "text/html": [
       "<div>\n",
       "<style scoped>\n",
       "    .dataframe tbody tr th:only-of-type {\n",
       "        vertical-align: middle;\n",
       "    }\n",
       "\n",
       "    .dataframe tbody tr th {\n",
       "        vertical-align: top;\n",
       "    }\n",
       "\n",
       "    .dataframe thead th {\n",
       "        text-align: right;\n",
       "    }\n",
       "</style>\n",
       "<table border=\"1\" class=\"dataframe\">\n",
       "  <thead>\n",
       "    <tr style=\"text-align: right;\">\n",
       "      <th></th>\n",
       "      <th>artists</th>\n",
       "      <th>track</th>\n",
       "      <th>sentiment</th>\n",
       "      <th>lyrics</th>\n",
       "      <th>lyrics_lemma</th>\n",
       "      <th>vader_sentiment</th>\n",
       "      <th>vader_sentiment_2</th>\n",
       "    </tr>\n",
       "  </thead>\n",
       "  <tbody>\n",
       "    <tr>\n",
       "      <th>0</th>\n",
       "      <td>Usher</td>\n",
       "      <td>There Goes My Baby</td>\n",
       "      <td>1</td>\n",
       "      <td>goes baby lyrics yeah right usher baby okay ye...</td>\n",
       "      <td>goe babi lyric yeah right usher babi okay yeah...</td>\n",
       "      <td>Positive</td>\n",
       "      <td>Positive</td>\n",
       "    </tr>\n",
       "    <tr>\n",
       "      <th>1</th>\n",
       "      <td>Da'Ville</td>\n",
       "      <td>On My Mind</td>\n",
       "      <td>1</td>\n",
       "      <td>mind lyricsahhhhhhhh om mind yea verse thinkin...</td>\n",
       "      <td>mind lyricsahhhhhhhh om mind yea vers thinkin ...</td>\n",
       "      <td>Positive</td>\n",
       "      <td>Positive</td>\n",
       "    </tr>\n",
       "    <tr>\n",
       "      <th>2</th>\n",
       "      <td>Rihanna</td>\n",
       "      <td>Rockstar 101</td>\n",
       "      <td>1</td>\n",
       "      <td>rockstar lyrics told ya told ya told ya baby b...</td>\n",
       "      <td>rockstar lyric told ya told ya told ya babi ba...</td>\n",
       "      <td>Positive</td>\n",
       "      <td>Positive</td>\n",
       "    </tr>\n",
       "  </tbody>\n",
       "</table>\n",
       "</div>"
      ],
      "text/plain": [
       "    artists               track  sentiment  \\\n",
       "0     Usher  There Goes My Baby          1   \n",
       "1  Da'Ville          On My Mind          1   \n",
       "2   Rihanna       Rockstar 101           1   \n",
       "\n",
       "                                              lyrics  \\\n",
       "0  goes baby lyrics yeah right usher baby okay ye...   \n",
       "1  mind lyricsahhhhhhhh om mind yea verse thinkin...   \n",
       "2  rockstar lyrics told ya told ya told ya baby b...   \n",
       "\n",
       "                                        lyrics_lemma vader_sentiment  \\\n",
       "0  goe babi lyric yeah right usher babi okay yeah...        Positive   \n",
       "1  mind lyricsahhhhhhhh om mind yea vers thinkin ...        Positive   \n",
       "2  rockstar lyric told ya told ya told ya babi ba...        Positive   \n",
       "\n",
       "  vader_sentiment_2  \n",
       "0          Positive  \n",
       "1          Positive  \n",
       "2          Positive  "
      ]
     },
     "execution_count": 47,
     "metadata": {},
     "output_type": "execute_result"
    }
   ],
   "source": [
    "df.head(3)"
   ]
  },
  {
   "cell_type": "markdown",
   "metadata": {},
   "source": [
    "### label encoding"
   ]
  },
  {
   "cell_type": "code",
   "execution_count": 49,
   "metadata": {},
   "outputs": [],
   "source": [
    "from sklearn.preprocessing import LabelEncoder\n",
    "from sklearn.utils import resample"
   ]
  },
  {
   "cell_type": "code",
   "execution_count": 50,
   "metadata": {},
   "outputs": [
    {
     "name": "stderr",
     "output_type": "stream",
     "text": [
      "C:\\Users\\91635\\AppData\\Local\\Temp/ipykernel_31584/563678025.py:2: SettingWithCopyWarning: \n",
      "A value is trying to be set on a copy of a slice from a DataFrame.\n",
      "Try using .loc[row_indexer,col_indexer] = value instead\n",
      "\n",
      "See the caveats in the documentation: https://pandas.pydata.org/pandas-docs/stable/user_guide/indexing.html#returning-a-view-versus-a-copy\n",
      "  df['sentiment'] = le.fit_transform(df['sentiment'])  # 1->positive 0->negative\n"
     ]
    }
   ],
   "source": [
    "le = LabelEncoder()\n",
    "df['sentiment'] = le.fit_transform(df['sentiment'])  # 1->positive 0->negative"
   ]
  },
  {
   "cell_type": "code",
   "execution_count": 51,
   "metadata": {},
   "outputs": [
    {
     "data": {
      "text/html": [
       "<div>\n",
       "<style scoped>\n",
       "    .dataframe tbody tr th:only-of-type {\n",
       "        vertical-align: middle;\n",
       "    }\n",
       "\n",
       "    .dataframe tbody tr th {\n",
       "        vertical-align: top;\n",
       "    }\n",
       "\n",
       "    .dataframe thead th {\n",
       "        text-align: right;\n",
       "    }\n",
       "</style>\n",
       "<table border=\"1\" class=\"dataframe\">\n",
       "  <thead>\n",
       "    <tr style=\"text-align: right;\">\n",
       "      <th></th>\n",
       "      <th>artists</th>\n",
       "      <th>track</th>\n",
       "      <th>sentiment</th>\n",
       "      <th>lyrics</th>\n",
       "      <th>lyrics_lemma</th>\n",
       "      <th>vader_sentiment</th>\n",
       "    </tr>\n",
       "  </thead>\n",
       "  <tbody>\n",
       "    <tr>\n",
       "      <th>0</th>\n",
       "      <td>Usher</td>\n",
       "      <td>There Goes My Baby</td>\n",
       "      <td>1</td>\n",
       "      <td>goes baby lyrics yeah right usher baby okay ye...</td>\n",
       "      <td>goe babi lyric yeah right usher babi okay yeah...</td>\n",
       "      <td>Positive</td>\n",
       "    </tr>\n",
       "    <tr>\n",
       "      <th>1</th>\n",
       "      <td>Da'Ville</td>\n",
       "      <td>On My Mind</td>\n",
       "      <td>1</td>\n",
       "      <td>mind lyricsahhhhhhhh om mind yea verse thinkin...</td>\n",
       "      <td>mind lyricsahhhhhhhh om mind yea vers thinkin ...</td>\n",
       "      <td>Positive</td>\n",
       "    </tr>\n",
       "    <tr>\n",
       "      <th>2</th>\n",
       "      <td>Rihanna</td>\n",
       "      <td>Rockstar 101</td>\n",
       "      <td>1</td>\n",
       "      <td>rockstar lyrics told ya told ya told ya baby b...</td>\n",
       "      <td>rockstar lyric told ya told ya told ya babi ba...</td>\n",
       "      <td>Positive</td>\n",
       "    </tr>\n",
       "  </tbody>\n",
       "</table>\n",
       "</div>"
      ],
      "text/plain": [
       "    artists               track  sentiment  \\\n",
       "0     Usher  There Goes My Baby          1   \n",
       "1  Da'Ville          On My Mind          1   \n",
       "2   Rihanna       Rockstar 101           1   \n",
       "\n",
       "                                              lyrics  \\\n",
       "0  goes baby lyrics yeah right usher baby okay ye...   \n",
       "1  mind lyricsahhhhhhhh om mind yea verse thinkin...   \n",
       "2  rockstar lyrics told ya told ya told ya baby b...   \n",
       "\n",
       "                                        lyrics_lemma vader_sentiment  \n",
       "0  goe babi lyric yeah right usher babi okay yeah...        Positive  \n",
       "1  mind lyricsahhhhhhhh om mind yea vers thinkin ...        Positive  \n",
       "2  rockstar lyric told ya told ya told ya babi ba...        Positive  "
      ]
     },
     "execution_count": 51,
     "metadata": {},
     "output_type": "execute_result"
    }
   ],
   "source": [
    "df.head(3)"
   ]
  },
  {
   "cell_type": "code",
   "execution_count": 90,
   "metadata": {},
   "outputs": [],
   "source": [
    "corpus = []\n",
    "for sentence in df['lyrics']:\n",
    "    corpus.append(sentence)"
   ]
  },
  {
   "cell_type": "markdown",
   "metadata": {},
   "source": [
    "### countvecterizer"
   ]
  },
  {
   "cell_type": "code",
   "execution_count": 91,
   "metadata": {},
   "outputs": [],
   "source": [
    "from sklearn.feature_extraction.text import CountVectorizer\n",
    "cv = CountVectorizer(ngram_range=(1,2))\n",
    "X = cv.fit_transform(corpus).toarray()\n",
    "y = df.iloc[:, -4].values"
   ]
  },
  {
   "cell_type": "markdown",
   "metadata": {},
   "source": [
    "### radomising rows"
   ]
  },
  {
   "cell_type": "code",
   "execution_count": 105,
   "metadata": {},
   "outputs": [],
   "source": [
    "df = df.sample(frac=1).reset_index(drop=True)"
   ]
  },
  {
   "cell_type": "markdown",
   "metadata": {},
   "source": [
    "# <b>Training Models</b>"
   ]
  },
  {
   "cell_type": "code",
   "execution_count": 142,
   "metadata": {},
   "outputs": [],
   "source": [
    "# gaussian naive bayes\n",
    "from sklearn.naive_bayes import GaussianNB\n",
    "# ada boost classifier\n",
    "from sklearn.ensemble import AdaBoostClassifier\n",
    "# K nearest neighbors\n",
    "from sklearn.neighbors import KNeighborsClassifier\n",
    "# train test split\n",
    "from sklearn.model_selection import train_test_split\n",
    "# confusion matrix and accuracy score\n",
    "from sklearn.metrics import confusion_matrix, accuracy_score\n",
    "# other metrics\n",
    "from sklearn.metrics import f1_score, precision_score, recall_score\n"
   ]
  },
  {
   "cell_type": "code",
   "execution_count": 143,
   "metadata": {},
   "outputs": [],
   "source": [
    "# splitting the training set\n",
    "X_train, X_test, y_train, y_test = train_test_split(X, y, test_size=0.2, random_state=123)"
   ]
  },
  {
   "cell_type": "markdown",
   "metadata": {},
   "source": [
    "# 1. GaussianNB"
   ]
  },
  {
   "cell_type": "code",
   "execution_count": 144,
   "metadata": {},
   "outputs": [
    {
     "name": "stdout",
     "output_type": "stream",
     "text": [
      "Accuracy Score : 90.0 %\n",
      "F-1 Score :  0.9166666666666666\n",
      "Precision Score :  0.9166666666666666\n",
      "Recall Score :  0.9166666666666666\n"
     ]
    }
   ],
   "source": [
    "gnb_model = GaussianNB()\n",
    "gnb_model.fit(X_train, y_train)\n",
    "y_pred = gnb_model.predict(X_test)\n",
    "print(\"Accuracy Score :\", round(accuracy_score(y_test, y_pred)*100 ,2), \"%\")  \n",
    "print('F-1 Score : ',(f1_score(y_test, y_pred)))\n",
    "print('Precision Score : ',(precision_score(y_test, y_pred)))\n",
    "print('Recall Score : ',(recall_score(y_test, y_pred)))"
   ]
  },
  {
   "cell_type": "markdown",
   "metadata": {},
   "source": [
    "# 2. AdaBoost"
   ]
  },
  {
   "cell_type": "code",
   "execution_count": 145,
   "metadata": {},
   "outputs": [
    {
     "name": "stdout",
     "output_type": "stream",
     "text": [
      "Accuracy Score : 65.0 %\n",
      "F-1 Score :  0.6666666666666666\n",
      "Precision Score :  0.7777777777777778\n",
      "Recall Score :  0.5833333333333334\n"
     ]
    }
   ],
   "source": [
    "ada_model = AdaBoostClassifier(random_state=123)\n",
    "ada_model.fit(X_train, y_train)\n",
    "y_pred = ada_model.predict(X_test)\n",
    "print(\"Accuracy Score :\", round(accuracy_score(y_test, y_pred)*100 ,2), \"%\")\n",
    "print('F-1 Score : ',(f1_score(y_test, y_pred)))\n",
    "print('Precision Score : ',(precision_score(y_test, y_pred)))\n",
    "print('Recall Score : ',(recall_score(y_test, y_pred)))"
   ]
  },
  {
   "cell_type": "markdown",
   "metadata": {},
   "source": [
    "# 3. K-Nearest Neighbor"
   ]
  },
  {
   "cell_type": "code",
   "execution_count": 146,
   "metadata": {},
   "outputs": [
    {
     "name": "stdout",
     "output_type": "stream",
     "text": [
      "Accuracy Score : 50.0 %\n",
      "F-1 Score :  0.2857142857142857\n",
      "Precision Score :  1.0\n",
      "Recall Score :  0.16666666666666666\n"
     ]
    }
   ],
   "source": [
    "knn_model = KNeighborsClassifier()\n",
    "knn_model.fit(X_train, y_train)\n",
    "y_pred = knn_model.predict(X_test)\n",
    "print(\"Accuracy Score :\", round(accuracy_score(y_test, y_pred)*100 ,2), \"%\")\n",
    "print('F-1 Score : ',(f1_score(y_test, y_pred)))\n",
    "print('Precision Score : ',(precision_score(y_test, y_pred)))\n",
    "print('Recall Score : ',(recall_score(y_test, y_pred)))"
   ]
  },
  {
   "cell_type": "markdown",
   "metadata": {},
   "source": [
    "# Saving model"
   ]
  },
  {
   "cell_type": "code",
   "execution_count": 147,
   "metadata": {},
   "outputs": [],
   "source": [
    "import joblib"
   ]
  },
  {
   "cell_type": "code",
   "execution_count": 151,
   "metadata": {},
   "outputs": [
    {
     "data": {
      "text/plain": [
       "['ada_model']"
      ]
     },
     "execution_count": 151,
     "metadata": {},
     "output_type": "execute_result"
    }
   ],
   "source": [
    "joblib.dump(knn_model,'knn_model')\n",
    "joblib.dump(gnb_model,'gnb_model')\n",
    "joblib.dump(ada_model,'ada_model')\n"
   ]
  },
  {
   "cell_type": "code",
   "execution_count": null,
   "metadata": {},
   "outputs": [],
   "source": []
  }
 ],
 "metadata": {
  "kernelspec": {
   "display_name": "Python 3.9.10 64-bit",
   "language": "python",
   "name": "python3"
  },
  "language_info": {
   "codemirror_mode": {
    "name": "ipython",
    "version": 3
   },
   "file_extension": ".py",
   "mimetype": "text/x-python",
   "name": "python",
   "nbconvert_exporter": "python",
   "pygments_lexer": "ipython3",
   "version": "3.9.10"
  },
  "orig_nbformat": 4,
  "vscode": {
   "interpreter": {
    "hash": "81794d4967e6c3204c66dcd87b604927b115b27c00565d3d43f05ba2f3a2cb0d"
   }
  }
 },
 "nbformat": 4,
 "nbformat_minor": 2
}
