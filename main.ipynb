{
 "cells": [
  {
   "cell_type": "code",
   "execution_count": 28,
   "metadata": {},
   "outputs": [],
   "source": [
    "import os\n",
    "import pandas as pd\n",
    "import lyricsgenius as lg\n",
    "import spotipy\n",
    "import time\n",
    "import matplotlib.pyplot as plt \n",
    "import seaborn as sns\n",
    "\n",
    "plt.style.use('ggplot')"
   ]
  },
  {
   "cell_type": "code",
   "execution_count": 29,
   "metadata": {},
   "outputs": [],
   "source": [
    "spotipy_client_id = 'c3e43077142f4e7bb70601747bd1f0d2'\n",
    "spotipy_client_secret = '925f7025c8e6420f9be665401784c0f6'\n",
    "spotipy_redirect_uri = 'https://google.com'\n",
    "genius_access_token = 'jVHnDFkBvrvEsj_M8YUxbQ9t8mo2zIG19giBxlX_g7NeRz4W51gedM1YHTBX_U-4'"
   ]
  },
  {
   "cell_type": "code",
   "execution_count": 104,
   "metadata": {},
   "outputs": [],
   "source": [
    "df = pd.read_csv('csv_files/happy_sad.csv')"
   ]
  },
  {
   "cell_type": "code",
   "execution_count": 105,
   "metadata": {},
   "outputs": [
    {
     "data": {
      "text/plain": [
       "sad      98\n",
       "happy    97\n",
       "Name: mood, dtype: int64"
      ]
     },
     "execution_count": 105,
     "metadata": {},
     "output_type": "execute_result"
    }
   ],
   "source": [
    "df['mood'].value_counts()"
   ]
  },
  {
   "cell_type": "markdown",
   "metadata": {},
   "source": [
    "# Plotting"
   ]
  },
  {
   "cell_type": "code",
   "execution_count": 106,
   "metadata": {},
   "outputs": [
    {
     "data": {
      "text/plain": [
       "Text(0.5, 0, 'Moods')"
      ]
     },
     "execution_count": 106,
     "metadata": {},
     "output_type": "execute_result"
    },
    {
     "data": {
      "image/png": "[encoded data removed]",
      "text/plain": [
       "<Figure size 720x360 with 1 Axes>"
      ]
     },
     "metadata": {},
     "output_type": "display_data"
    }
   ],
   "source": [
    "graph = df['mood'].value_counts().sort_index().plot(kind='bar',title='Number of Each moods',figsize=(10,5))\n",
    "graph.set_xlabel('Moods')"
   ]
  },
  {
   "cell_type": "markdown",
   "metadata": {},
   "source": [
    "# <b>Data Preprocessing</b>"
   ]
  },
  {
   "cell_type": "markdown",
   "metadata": {},
   "source": [
    "### <b>1.Data Cleaning</b>"
   ]
  },
  {
   "cell_type": "markdown",
   "metadata": {},
   "source": [
    "#### Checking for missing values\n"
   ]
  },
  {
   "cell_type": "code",
   "execution_count": 107,
   "metadata": {},
   "outputs": [
    {
     "data": {
      "text/plain": [
       "Unnamed: 0          0\n",
       "track               0\n",
       "artists             0\n",
       "danceability        0\n",
       "energy              0\n",
       "key                 0\n",
       "loudness            0\n",
       "speechiness         0\n",
       "acousticness        0\n",
       "instrumentalness    0\n",
       "liveness            0\n",
       "valence             0\n",
       "tempo               0\n",
       "lyrics              0\n",
       "mood                0\n",
       "dtype: int64"
      ]
     },
     "execution_count": 107,
     "metadata": {},
     "output_type": "execute_result"
    }
   ],
   "source": [
    "df.isna().sum()"
   ]
  },
  {
   "cell_type": "code",
   "execution_count": 108,
   "metadata": {},
   "outputs": [],
   "source": [
    "df.dropna(how='any',inplace=True)"
   ]
  },
  {
   "cell_type": "markdown",
   "metadata": {},
   "source": [
    "#### Checking for Duplicate values"
   ]
  },
  {
   "cell_type": "code",
   "execution_count": 109,
   "metadata": {},
   "outputs": [
    {
     "data": {
      "text/plain": [
       "0"
      ]
     },
     "execution_count": 109,
     "metadata": {},
     "output_type": "execute_result"
    }
   ],
   "source": [
    "df['track'].duplicated().sum()\n"
   ]
  },
  {
   "cell_type": "code",
   "execution_count": 110,
   "metadata": {},
   "outputs": [],
   "source": [
    "df.drop_duplicates(subset='track',keep='last',inplace=True)\n"
   ]
  },
  {
   "cell_type": "markdown",
   "metadata": {},
   "source": [
    "### <b>2.Tokenization</b>"
   ]
  },
  {
   "cell_type": "code",
   "execution_count": 111,
   "metadata": {},
   "outputs": [
    {
     "name": "stderr",
     "output_type": "stream",
     "text": [
      "[nltk_data] Downloading package punkt to\n",
      "[nltk_data]     C:\\Users\\91635\\AppData\\Roaming\\nltk_data...\n",
      "[nltk_data]   Package punkt is already up-to-date!\n"
     ]
    },
    {
     "data": {
      "text/plain": [
       "True"
      ]
     },
     "execution_count": 111,
     "metadata": {},
     "output_type": "execute_result"
    }
   ],
   "source": [
    "import re\n",
    "import string\n",
    "import nltk\n",
    "from nltk.tokenize import word_tokenize\n",
    "nltk.download('punkt')"
   ]
  },
  {
   "cell_type": "code",
   "execution_count": 112,
   "metadata": {},
   "outputs": [
    {
     "name": "stdout",
     "output_type": "stream",
     "text": [
      "Tokenizing Result : \n",
      "\n",
      "0      [translationsportuguêsi, am, good, blue, lyric...\n",
      "1      [made, you, look, lyrics, could, have, my, guc...\n",
      "2      [aint, worried, lyrics, do, not, know, what, y...\n",
      "3      [translationstürkçesvenskaespañolslovenčinaрус...\n",
      "4      [translationsdeutschtürkçeespañolportuguêspols...\n",
      "                             ...                        \n",
      "190    [translationsespañolprom, dress, lyrics, am, n...\n",
      "191    [skinny, love, lyrics, come, on, skinny, love,...\n",
      "192    [drunk, lyrics, all, my, friends, are, drunk, ...\n",
      "193    [translationstürkçeespañolрусскийdeutschfrança...\n",
      "194    [leave, light, on, lyrics, the, second, someon...\n",
      "Name: lyrics_tokens, Length: 195, dtype: object\n"
     ]
    }
   ],
   "source": [
    "def preprocessText(text, remove_stops=False):\n",
    "    \n",
    "    # Remove everything between hard brackets\n",
    "    text = re.sub(pattern=\"\\[.+?\\]( )?\", repl='', string=text)\n",
    "\n",
    "    # Change \"walkin'\" to \"walking\", for example\n",
    "    text = re.sub(pattern=\"n\\\\\\' \", repl='ng ', string=text)\n",
    "\n",
    "    # Remove x4 and (x4), for example\n",
    "    text = re.sub(pattern=\"(\\()?x\\d+(\\))?\", repl=' ', string=text)\n",
    "\n",
    "    # Fix apostrophe issues\n",
    "    text= re.sub(pattern=\"\\\\x91\", repl=\"'\", string=text)\n",
    "    text = re.sub(pattern=\"\\\\x92\", repl=\"'\", string=text)\n",
    "    text= re.sub(pattern=\"<u\\+0092>\", repl=\"'\", string=text)\n",
    "    \n",
    "    # Make lowercase\n",
    "    text = text.lower()\n",
    "\n",
    "    # Remove \\n from beginning\n",
    "    text = re.sub(pattern='^\\n', repl=' ', string=text)\n",
    "\n",
    "    # Strip , ! ?, : and remaining \\n from lyrics\n",
    "    text = ''.join([char.strip(\",!?:\") for char in text])\n",
    "    text = text.replace('\\n', '  ')\n",
    "    \n",
    "    # Remove contractions\n",
    "    # specific\n",
    "    text = re.sub(r\"won't\", \"will not\", text)\n",
    "    text = re.sub(r\"won\\’t\", \"will not\", text)\n",
    "    text = re.sub(r\"can't\", \"can not\", text)\n",
    "    text = re.sub(r\"can\\’t\", \"can not\", text)\n",
    "    text = re.sub(r\"let's\", \"let us\", text)\n",
    "    text = re.sub(r\"let\\’s\", \"let us\", text)\n",
    "    text = re.sub(r\"ain't\", \"aint\", text)\n",
    "    text = re.sub(r\"ain\\’t\", \"aint\", text)\n",
    "    text = re.sub(r\"wanna\", \"want to\", text)\n",
    "    text = re.sub(r\"gonna\", \"going to\", text)\n",
    "    text = re.sub(r\"gotta\", \"go to\", text)\n",
    "    \n",
    "    # general\n",
    "    text = re.sub(r\"n\\'t\", \" not\", text)\n",
    "    text = re.sub(r\"\\'re\", \" are\", text)\n",
    "    text = re.sub(r\"\\'s\", \" is\", text)\n",
    "    text = re.sub(r\"\\'d\", \" would\", text)\n",
    "    text = re.sub(r\"\\'ll\", \" will\", text)\n",
    "    text = re.sub(r\"\\'t\", \" not\", text)\n",
    "    text = re.sub(r\"\\'ve\", \" have\", text)\n",
    "    text = re.sub(r\"\\'m\", \" am\", text)\n",
    "    text = re.sub(r\"n\\’t\", \" not\", text)\n",
    "    text = re.sub(r\"\\’re\", \" are\", text)\n",
    "    text = re.sub(r\"\\’s\", \" is\", text)\n",
    "    text = re.sub(r\"\\’d\", \" would\", text)\n",
    "    text = re.sub(r\"\\’ll\", \" will\", text)\n",
    "    text = re.sub(r\"\\’t\", \" not\", text)\n",
    "    text = re.sub(r\"\\’ve\", \" have\", text)\n",
    "    text = re.sub(r\"\\’m\", \" am\", text)\n",
    "    text = re.sub(r\"\\â\", \"a\", text)\n",
    "    \n",
    "    # Remove Symbols\n",
    "    text = re.sub(r\"[^\\w\\s]\",\"\", text)\n",
    "    \n",
    "    # remove single char\n",
    "    text = re.sub(r\"\\b[a-zA-Z]\\b\",\"\", text)\n",
    "   \n",
    "    #remove number\n",
    "    text = re.sub(r\"\\d+\", \"\", text)\n",
    "    \n",
    "    #remove duplicate char(oohhh,ohhhh,oohhhh,etc)\n",
    "    text = re.sub(r\"o+h\", \"oh\", text)\n",
    "    text = re.sub(r\"oh+\", \"\", text)\n",
    "    \n",
    "    # Remove remaining punctuation\n",
    "    punc = string.punctuation\n",
    "    text = ''.join([char for char in text if char not in punc])\n",
    "\n",
    "    # Remove double spaces and beginning/trailing whitespace\n",
    "    text = re.sub(pattern='( ){2,}', repl=' ', string=text)\n",
    "    text = text.strip()\n",
    "    \n",
    "    return(text)\n",
    "\n",
    "df['lyrics'] = df['lyrics'].apply(preprocessText)\n",
    "\n",
    "# NLTK word tokenize \n",
    "def word_tokenize_wrapper(text):\n",
    "    return word_tokenize(text)\n",
    "\n",
    "df['lyrics_tokens']= df['lyrics'].apply(word_tokenize_wrapper)\n",
    "\n",
    "print('Tokenizing Result : \\n') \n",
    "print(df['lyrics_tokens'])"
   ]
  },
  {
   "cell_type": "markdown",
   "metadata": {},
   "source": [
    "### <b>3.Stopwords Removal</b>"
   ]
  },
  {
   "cell_type": "code",
   "execution_count": 113,
   "metadata": {},
   "outputs": [],
   "source": [
    "# Stopwords Removal\n",
    "from nltk.corpus import stopwords\n",
    "\n",
    "stop = stopwords.words('english')\n",
    "df['lyrics_tokens_preprocessing'] = df['lyrics_tokens'].apply(lambda x: [item for item in x if item not in stop])"
   ]
  },
  {
   "cell_type": "markdown",
   "metadata": {},
   "source": [
    "### <b>4.Lemmatization</b>"
   ]
  },
  {
   "cell_type": "code",
   "execution_count": 114,
   "metadata": {},
   "outputs": [],
   "source": [
    "# Lemmatization\n",
    "from nltk.stem import WordNetLemmatizer\n",
    "\n",
    "lemmatizer = WordNetLemmatizer()\n",
    "\n",
    "df['lyrics_tokens_preprocessing'] = df['lyrics_tokens_preprocessing'].apply(lambda x: [lemmatizer.lemmatize(y) for y in x])"
   ]
  },
  {
   "cell_type": "markdown",
   "metadata": {},
   "source": [
    "### <b>5.Stemming</b>"
   ]
  },
  {
   "cell_type": "code",
   "execution_count": 115,
   "metadata": {},
   "outputs": [],
   "source": [
    "# stemming\n",
    "from nltk.stem.porter import PorterStemmer\n",
    "\n",
    "stemmer = PorterStemmer()\n",
    "df['lyrics_tokens_preprocessing'] = df['lyrics_tokens_preprocessing'].apply(lambda x: [stemmer.stem(y) for y in x])"
   ]
  },
  {
   "cell_type": "markdown",
   "metadata": {},
   "source": [
    "# Vader Algorithm"
   ]
  },
  {
   "cell_type": "code",
   "execution_count": 121,
   "metadata": {},
   "outputs": [],
   "source": [
    "from vaderSentiment.vaderSentiment import SentimentIntensityAnalyzer\n",
    "\n",
    "analyser = SentimentIntensityAnalyzer()\n",
    "\n",
    "sentiment_list = []\n",
    "sentiment_score_list = []\n",
    "\n",
    "for i in df['lyrics']:\n",
    "    try:\n",
    "        sentiment_score = analyser.polarity_scores(i)\n",
    "\n",
    "        if sentiment_score['compound'] >= 0.2:\n",
    "            sentiment_percentage = sentiment_score['compound']\n",
    "            sentiment = 'Positive'\n",
    "        elif sentiment_score['compound'] > -0.2 and sentiment_score['compound'] < 0.2:\n",
    "            sentiment_percentage = sentiment_score['compound']\n",
    "            sentiment = 'Neutral'\n",
    "        elif sentiment_score['compound'] <= -0.2:\n",
    "            sentiment_percentage = sentiment_score['compound']\n",
    "            sentiment = 'Negative'\n",
    "\n",
    "        sentiment_list.append(sentiment)\n",
    "        sentiment_score_list.append((abs(sentiment_percentage) * 100))\n",
    "        \n",
    "    except:\n",
    "        sentiment_list.append('None')\n",
    "        sentiment_score_list.append(0)\n",
    "\n",
    "df['Sentiment'] = sentiment_list\n",
    "df['Sentiment_Score'] = sentiment_score_list\n"
   ]
  },
  {
   "cell_type": "code",
   "execution_count": 122,
   "metadata": {},
   "outputs": [
    {
     "data": {
      "text/html": [
       "<div>\n",
       "<style scoped>\n",
       "    .dataframe tbody tr th:only-of-type {\n",
       "        vertical-align: middle;\n",
       "    }\n",
       "\n",
       "    .dataframe tbody tr th {\n",
       "        vertical-align: top;\n",
       "    }\n",
       "\n",
       "    .dataframe thead th {\n",
       "        text-align: right;\n",
       "    }\n",
       "</style>\n",
       "<table border=\"1\" class=\"dataframe\">\n",
       "  <thead>\n",
       "    <tr style=\"text-align: right;\">\n",
       "      <th></th>\n",
       "      <th>Unnamed: 0</th>\n",
       "      <th>track</th>\n",
       "      <th>artists</th>\n",
       "      <th>danceability</th>\n",
       "      <th>energy</th>\n",
       "      <th>key</th>\n",
       "      <th>loudness</th>\n",
       "      <th>speechiness</th>\n",
       "      <th>acousticness</th>\n",
       "      <th>instrumentalness</th>\n",
       "      <th>liveness</th>\n",
       "      <th>valence</th>\n",
       "      <th>tempo</th>\n",
       "      <th>lyrics</th>\n",
       "      <th>mood</th>\n",
       "      <th>lyrics_tokens</th>\n",
       "      <th>lyrics_tokens_preprocessing</th>\n",
       "      <th>Sentiment</th>\n",
       "      <th>Sentiment_Score</th>\n",
       "    </tr>\n",
       "  </thead>\n",
       "  <tbody>\n",
       "    <tr>\n",
       "      <th>0</th>\n",
       "      <td>0</td>\n",
       "      <td>I'm Good (Blue)</td>\n",
       "      <td>David Guetta</td>\n",
       "      <td>0.561</td>\n",
       "      <td>0.965</td>\n",
       "      <td>7</td>\n",
       "      <td>-3.673</td>\n",
       "      <td>0.0343</td>\n",
       "      <td>0.00383</td>\n",
       "      <td>0.000007</td>\n",
       "      <td>0.3710</td>\n",
       "      <td>0.304</td>\n",
       "      <td>128.040</td>\n",
       "      <td>translationsportuguêsi am good blue lyrics am ...</td>\n",
       "      <td>happy</td>\n",
       "      <td>[translationsportuguêsi, am, good, blue, lyric...</td>\n",
       "      <td>[translationsportuguêsi, good, blue, lyric, go...</td>\n",
       "      <td>Positive</td>\n",
       "      <td>99.79</td>\n",
       "    </tr>\n",
       "    <tr>\n",
       "      <th>1</th>\n",
       "      <td>1</td>\n",
       "      <td>Made You Look</td>\n",
       "      <td>Meghan Trainor</td>\n",
       "      <td>0.838</td>\n",
       "      <td>0.525</td>\n",
       "      <td>10</td>\n",
       "      <td>-3.562</td>\n",
       "      <td>0.0665</td>\n",
       "      <td>0.34500</td>\n",
       "      <td>0.000002</td>\n",
       "      <td>0.0771</td>\n",
       "      <td>0.884</td>\n",
       "      <td>144.981</td>\n",
       "      <td>made you look lyrics could have my gucci on co...</td>\n",
       "      <td>happy</td>\n",
       "      <td>[made, you, look, lyrics, could, have, my, guc...</td>\n",
       "      <td>[made, look, lyric, could, gucci, could, wear,...</td>\n",
       "      <td>Positive</td>\n",
       "      <td>77.83</td>\n",
       "    </tr>\n",
       "    <tr>\n",
       "      <th>2</th>\n",
       "      <td>2</td>\n",
       "      <td>I Ain't Worried</td>\n",
       "      <td>OneRepublic</td>\n",
       "      <td>0.704</td>\n",
       "      <td>0.797</td>\n",
       "      <td>0</td>\n",
       "      <td>-5.927</td>\n",
       "      <td>0.0475</td>\n",
       "      <td>0.08260</td>\n",
       "      <td>0.000745</td>\n",
       "      <td>0.0546</td>\n",
       "      <td>0.825</td>\n",
       "      <td>139.994</td>\n",
       "      <td>aint worried lyrics do not know what you have ...</td>\n",
       "      <td>happy</td>\n",
       "      <td>[aint, worried, lyrics, do, not, know, what, y...</td>\n",
       "      <td>[aint, worri, lyric, know, told, time, run, ne...</td>\n",
       "      <td>Positive</td>\n",
       "      <td>99.66</td>\n",
       "    </tr>\n",
       "    <tr>\n",
       "      <th>3</th>\n",
       "      <td>3</td>\n",
       "      <td>Blinding Lights</td>\n",
       "      <td>The Weeknd</td>\n",
       "      <td>0.514</td>\n",
       "      <td>0.730</td>\n",
       "      <td>1</td>\n",
       "      <td>-5.934</td>\n",
       "      <td>0.0598</td>\n",
       "      <td>0.00146</td>\n",
       "      <td>0.000095</td>\n",
       "      <td>0.0897</td>\n",
       "      <td>0.334</td>\n",
       "      <td>171.005</td>\n",
       "      <td>translationstürkçesvenskaespañolslovenčinaрусс...</td>\n",
       "      <td>happy</td>\n",
       "      <td>[translationstürkçesvenskaespañolslovenčinaрус...</td>\n",
       "      <td>[translationstürkçesvenskaespañolslovenčinaрус...</td>\n",
       "      <td>Neutral</td>\n",
       "      <td>10.68</td>\n",
       "    </tr>\n",
       "    <tr>\n",
       "      <th>4</th>\n",
       "      <td>4</td>\n",
       "      <td>Watermelon Sugar</td>\n",
       "      <td>Harry Styles</td>\n",
       "      <td>0.548</td>\n",
       "      <td>0.816</td>\n",
       "      <td>0</td>\n",
       "      <td>-4.209</td>\n",
       "      <td>0.0465</td>\n",
       "      <td>0.12200</td>\n",
       "      <td>0.000000</td>\n",
       "      <td>0.3350</td>\n",
       "      <td>0.557</td>\n",
       "      <td>95.390</td>\n",
       "      <td>translationsdeutschtürkçeespañolportuguêspolsk...</td>\n",
       "      <td>happy</td>\n",
       "      <td>[translationsdeutschtürkçeespañolportuguêspols...</td>\n",
       "      <td>[translationsdeutschtürkçeespañolportuguêspols...</td>\n",
       "      <td>Positive</td>\n",
       "      <td>97.29</td>\n",
       "    </tr>\n",
       "    <tr>\n",
       "      <th>...</th>\n",
       "      <td>...</td>\n",
       "      <td>...</td>\n",
       "      <td>...</td>\n",
       "      <td>...</td>\n",
       "      <td>...</td>\n",
       "      <td>...</td>\n",
       "      <td>...</td>\n",
       "      <td>...</td>\n",
       "      <td>...</td>\n",
       "      <td>...</td>\n",
       "      <td>...</td>\n",
       "      <td>...</td>\n",
       "      <td>...</td>\n",
       "      <td>...</td>\n",
       "      <td>...</td>\n",
       "      <td>...</td>\n",
       "      <td>...</td>\n",
       "      <td>...</td>\n",
       "      <td>...</td>\n",
       "    </tr>\n",
       "    <tr>\n",
       "      <th>190</th>\n",
       "      <td>93</td>\n",
       "      <td>prom dress</td>\n",
       "      <td>mxmtoon</td>\n",
       "      <td>0.560</td>\n",
       "      <td>0.674</td>\n",
       "      <td>10</td>\n",
       "      <td>-6.048</td>\n",
       "      <td>0.0446</td>\n",
       "      <td>0.69800</td>\n",
       "      <td>0.000000</td>\n",
       "      <td>0.1230</td>\n",
       "      <td>0.421</td>\n",
       "      <td>119.942</td>\n",
       "      <td>translationsespañolprom dress lyrics am nearin...</td>\n",
       "      <td>sad</td>\n",
       "      <td>[translationsespañolprom, dress, lyrics, am, n...</td>\n",
       "      <td>[translationsespañolprom, dress, lyric, near, ...</td>\n",
       "      <td>Negative</td>\n",
       "      <td>91.95</td>\n",
       "    </tr>\n",
       "    <tr>\n",
       "      <th>191</th>\n",
       "      <td>94</td>\n",
       "      <td>Skinny Love</td>\n",
       "      <td>Birdy</td>\n",
       "      <td>0.379</td>\n",
       "      <td>0.290</td>\n",
       "      <td>4</td>\n",
       "      <td>-8.485</td>\n",
       "      <td>0.0510</td>\n",
       "      <td>0.95200</td>\n",
       "      <td>0.001060</td>\n",
       "      <td>0.1180</td>\n",
       "      <td>0.169</td>\n",
       "      <td>166.467</td>\n",
       "      <td>skinny love lyrics come on skinny love just la...</td>\n",
       "      <td>sad</td>\n",
       "      <td>[skinny, love, lyrics, come, on, skinny, love,...</td>\n",
       "      <td>[skinni, love, lyric, come, skinni, love, last...</td>\n",
       "      <td>Positive</td>\n",
       "      <td>98.31</td>\n",
       "    </tr>\n",
       "    <tr>\n",
       "      <th>192</th>\n",
       "      <td>95</td>\n",
       "      <td>drunk</td>\n",
       "      <td>keshi</td>\n",
       "      <td>0.691</td>\n",
       "      <td>0.389</td>\n",
       "      <td>4</td>\n",
       "      <td>-8.247</td>\n",
       "      <td>0.0367</td>\n",
       "      <td>0.76500</td>\n",
       "      <td>0.000000</td>\n",
       "      <td>0.0941</td>\n",
       "      <td>0.306</td>\n",
       "      <td>104.952</td>\n",
       "      <td>drunk lyrics all my friends are drunk again an...</td>\n",
       "      <td>sad</td>\n",
       "      <td>[drunk, lyrics, all, my, friends, are, drunk, ...</td>\n",
       "      <td>[drunk, lyric, friend, drunk, stumbl, back, be...</td>\n",
       "      <td>Positive</td>\n",
       "      <td>91.92</td>\n",
       "    </tr>\n",
       "    <tr>\n",
       "      <th>193</th>\n",
       "      <td>96</td>\n",
       "      <td>Daylight</td>\n",
       "      <td>Joji</td>\n",
       "      <td>0.528</td>\n",
       "      <td>0.749</td>\n",
       "      <td>7</td>\n",
       "      <td>-7.571</td>\n",
       "      <td>0.0479</td>\n",
       "      <td>0.00488</td>\n",
       "      <td>0.000096</td>\n",
       "      <td>0.0949</td>\n",
       "      <td>0.729</td>\n",
       "      <td>163.944</td>\n",
       "      <td>translationstürkçeespañolрусскийdeutschfrançai...</td>\n",
       "      <td>sad</td>\n",
       "      <td>[translationstürkçeespañolрусскийdeutschfrança...</td>\n",
       "      <td>[translationstürkçeespañolрусскийdeutschfrança...</td>\n",
       "      <td>Negative</td>\n",
       "      <td>98.53</td>\n",
       "    </tr>\n",
       "    <tr>\n",
       "      <th>194</th>\n",
       "      <td>97</td>\n",
       "      <td>Leave a Light On</td>\n",
       "      <td>Tom Walker</td>\n",
       "      <td>0.586</td>\n",
       "      <td>0.624</td>\n",
       "      <td>5</td>\n",
       "      <td>-5.946</td>\n",
       "      <td>0.1130</td>\n",
       "      <td>0.01530</td>\n",
       "      <td>0.000002</td>\n",
       "      <td>0.1330</td>\n",
       "      <td>0.267</td>\n",
       "      <td>68.976</td>\n",
       "      <td>leave light on lyrics the second someone menti...</td>\n",
       "      <td>sad</td>\n",
       "      <td>[leave, light, on, lyrics, the, second, someon...</td>\n",
       "      <td>[leav, light, lyric, second, someon, mention, ...</td>\n",
       "      <td>Positive</td>\n",
       "      <td>33.91</td>\n",
       "    </tr>\n",
       "  </tbody>\n",
       "</table>\n",
       "<p>195 rows × 19 columns</p>\n",
       "</div>"
      ],
      "text/plain": [
       "     Unnamed: 0             track         artists  danceability  energy  key  \\\n",
       "0             0   I'm Good (Blue)    David Guetta         0.561   0.965    7   \n",
       "1             1     Made You Look  Meghan Trainor         0.838   0.525   10   \n",
       "2             2   I Ain't Worried     OneRepublic         0.704   0.797    0   \n",
       "3             3   Blinding Lights      The Weeknd         0.514   0.730    1   \n",
       "4             4  Watermelon Sugar    Harry Styles         0.548   0.816    0   \n",
       "..          ...               ...             ...           ...     ...  ...   \n",
       "190          93        prom dress         mxmtoon         0.560   0.674   10   \n",
       "191          94       Skinny Love           Birdy         0.379   0.290    4   \n",
       "192          95             drunk           keshi         0.691   0.389    4   \n",
       "193          96          Daylight            Joji         0.528   0.749    7   \n",
       "194          97  Leave a Light On      Tom Walker         0.586   0.624    5   \n",
       "\n",
       "     loudness  speechiness  acousticness  instrumentalness  liveness  valence  \\\n",
       "0      -3.673       0.0343       0.00383          0.000007    0.3710    0.304   \n",
       "1      -3.562       0.0665       0.34500          0.000002    0.0771    0.884   \n",
       "2      -5.927       0.0475       0.08260          0.000745    0.0546    0.825   \n",
       "3      -5.934       0.0598       0.00146          0.000095    0.0897    0.334   \n",
       "4      -4.209       0.0465       0.12200          0.000000    0.3350    0.557   \n",
       "..        ...          ...           ...               ...       ...      ...   \n",
       "190    -6.048       0.0446       0.69800          0.000000    0.1230    0.421   \n",
       "191    -8.485       0.0510       0.95200          0.001060    0.1180    0.169   \n",
       "192    -8.247       0.0367       0.76500          0.000000    0.0941    0.306   \n",
       "193    -7.571       0.0479       0.00488          0.000096    0.0949    0.729   \n",
       "194    -5.946       0.1130       0.01530          0.000002    0.1330    0.267   \n",
       "\n",
       "       tempo                                             lyrics   mood  \\\n",
       "0    128.040  translationsportuguêsi am good blue lyrics am ...  happy   \n",
       "1    144.981  made you look lyrics could have my gucci on co...  happy   \n",
       "2    139.994  aint worried lyrics do not know what you have ...  happy   \n",
       "3    171.005  translationstürkçesvenskaespañolslovenčinaрусс...  happy   \n",
       "4     95.390  translationsdeutschtürkçeespañolportuguêspolsk...  happy   \n",
       "..       ...                                                ...    ...   \n",
       "190  119.942  translationsespañolprom dress lyrics am nearin...    sad   \n",
       "191  166.467  skinny love lyrics come on skinny love just la...    sad   \n",
       "192  104.952  drunk lyrics all my friends are drunk again an...    sad   \n",
       "193  163.944  translationstürkçeespañolрусскийdeutschfrançai...    sad   \n",
       "194   68.976  leave light on lyrics the second someone menti...    sad   \n",
       "\n",
       "                                         lyrics_tokens  \\\n",
       "0    [translationsportuguêsi, am, good, blue, lyric...   \n",
       "1    [made, you, look, lyrics, could, have, my, guc...   \n",
       "2    [aint, worried, lyrics, do, not, know, what, y...   \n",
       "3    [translationstürkçesvenskaespañolslovenčinaрус...   \n",
       "4    [translationsdeutschtürkçeespañolportuguêspols...   \n",
       "..                                                 ...   \n",
       "190  [translationsespañolprom, dress, lyrics, am, n...   \n",
       "191  [skinny, love, lyrics, come, on, skinny, love,...   \n",
       "192  [drunk, lyrics, all, my, friends, are, drunk, ...   \n",
       "193  [translationstürkçeespañolрусскийdeutschfrança...   \n",
       "194  [leave, light, on, lyrics, the, second, someon...   \n",
       "\n",
       "                           lyrics_tokens_preprocessing Sentiment  \\\n",
       "0    [translationsportuguêsi, good, blue, lyric, go...  Positive   \n",
       "1    [made, look, lyric, could, gucci, could, wear,...  Positive   \n",
       "2    [aint, worri, lyric, know, told, time, run, ne...  Positive   \n",
       "3    [translationstürkçesvenskaespañolslovenčinaрус...   Neutral   \n",
       "4    [translationsdeutschtürkçeespañolportuguêspols...  Positive   \n",
       "..                                                 ...       ...   \n",
       "190  [translationsespañolprom, dress, lyric, near, ...  Negative   \n",
       "191  [skinni, love, lyric, come, skinni, love, last...  Positive   \n",
       "192  [drunk, lyric, friend, drunk, stumbl, back, be...  Positive   \n",
       "193  [translationstürkçeespañolрусскийdeutschfrança...  Negative   \n",
       "194  [leav, light, lyric, second, someon, mention, ...  Positive   \n",
       "\n",
       "     Sentiment_Score  \n",
       "0              99.79  \n",
       "1              77.83  \n",
       "2              99.66  \n",
       "3              10.68  \n",
       "4              97.29  \n",
       "..               ...  \n",
       "190            91.95  \n",
       "191            98.31  \n",
       "192            91.92  \n",
       "193            98.53  \n",
       "194            33.91  \n",
       "\n",
       "[195 rows x 19 columns]"
      ]
     },
     "execution_count": 122,
     "metadata": {},
     "output_type": "execute_result"
    }
   ],
   "source": [
    "df"
   ]
  },
  {
   "cell_type": "code",
   "execution_count": 123,
   "metadata": {},
   "outputs": [
    {
     "data": {
      "text/plain": [
       "Positive    139\n",
       "Negative     52\n",
       "Neutral       4\n",
       "Name: Sentiment, dtype: int64"
      ]
     },
     "execution_count": 123,
     "metadata": {},
     "output_type": "execute_result"
    }
   ],
   "source": [
    "df['Sentiment'].value_counts()"
   ]
  },
  {
   "cell_type": "markdown",
   "metadata": {},
   "source": [
    "# Training Models"
   ]
  },
  {
   "cell_type": "code",
   "execution_count": 124,
   "metadata": {},
   "outputs": [],
   "source": [
    "from sklearn.preprocessing import LabelEncoder\n",
    "from sklearn.utils import resample"
   ]
  },
  {
   "cell_type": "code",
   "execution_count": 145,
   "metadata": {},
   "outputs": [],
   "source": [
    "le = LabelEncoder()\n",
    "df['Sentiment'] = le.fit_transform(df['Sentiment']) "
   ]
  },
  {
   "cell_type": "code",
   "execution_count": 146,
   "metadata": {},
   "outputs": [
    {
     "data": {
      "text/html": [
       "<div>\n",
       "<style scoped>\n",
       "    .dataframe tbody tr th:only-of-type {\n",
       "        vertical-align: middle;\n",
       "    }\n",
       "\n",
       "    .dataframe tbody tr th {\n",
       "        vertical-align: top;\n",
       "    }\n",
       "\n",
       "    .dataframe thead th {\n",
       "        text-align: right;\n",
       "    }\n",
       "</style>\n",
       "<table border=\"1\" class=\"dataframe\">\n",
       "  <thead>\n",
       "    <tr style=\"text-align: right;\">\n",
       "      <th></th>\n",
       "      <th>Unnamed: 0</th>\n",
       "      <th>track</th>\n",
       "      <th>artists</th>\n",
       "      <th>danceability</th>\n",
       "      <th>energy</th>\n",
       "      <th>key</th>\n",
       "      <th>loudness</th>\n",
       "      <th>speechiness</th>\n",
       "      <th>acousticness</th>\n",
       "      <th>instrumentalness</th>\n",
       "      <th>liveness</th>\n",
       "      <th>valence</th>\n",
       "      <th>tempo</th>\n",
       "      <th>lyrics</th>\n",
       "      <th>mood</th>\n",
       "      <th>lyrics_tokens</th>\n",
       "      <th>lyrics_tokens_preprocessing</th>\n",
       "      <th>Sentiment</th>\n",
       "      <th>Sentiment_Score</th>\n",
       "      <th>mood_encoded</th>\n",
       "    </tr>\n",
       "  </thead>\n",
       "  <tbody>\n",
       "    <tr>\n",
       "      <th>0</th>\n",
       "      <td>0</td>\n",
       "      <td>I'm Good (Blue)</td>\n",
       "      <td>David Guetta</td>\n",
       "      <td>0.561</td>\n",
       "      <td>0.965</td>\n",
       "      <td>7</td>\n",
       "      <td>-3.673</td>\n",
       "      <td>0.0343</td>\n",
       "      <td>0.00383</td>\n",
       "      <td>0.000007</td>\n",
       "      <td>0.3710</td>\n",
       "      <td>0.304</td>\n",
       "      <td>128.040</td>\n",
       "      <td>translationsportuguêsi am good blue lyrics am ...</td>\n",
       "      <td>happy</td>\n",
       "      <td>[translationsportuguêsi, am, good, blue, lyric...</td>\n",
       "      <td>[translationsportuguêsi, good, blue, lyric, go...</td>\n",
       "      <td>2</td>\n",
       "      <td>99.79</td>\n",
       "      <td>0</td>\n",
       "    </tr>\n",
       "    <tr>\n",
       "      <th>1</th>\n",
       "      <td>1</td>\n",
       "      <td>Made You Look</td>\n",
       "      <td>Meghan Trainor</td>\n",
       "      <td>0.838</td>\n",
       "      <td>0.525</td>\n",
       "      <td>10</td>\n",
       "      <td>-3.562</td>\n",
       "      <td>0.0665</td>\n",
       "      <td>0.34500</td>\n",
       "      <td>0.000002</td>\n",
       "      <td>0.0771</td>\n",
       "      <td>0.884</td>\n",
       "      <td>144.981</td>\n",
       "      <td>made you look lyrics could have my gucci on co...</td>\n",
       "      <td>happy</td>\n",
       "      <td>[made, you, look, lyrics, could, have, my, guc...</td>\n",
       "      <td>[made, look, lyric, could, gucci, could, wear,...</td>\n",
       "      <td>2</td>\n",
       "      <td>77.83</td>\n",
       "      <td>0</td>\n",
       "    </tr>\n",
       "    <tr>\n",
       "      <th>2</th>\n",
       "      <td>2</td>\n",
       "      <td>I Ain't Worried</td>\n",
       "      <td>OneRepublic</td>\n",
       "      <td>0.704</td>\n",
       "      <td>0.797</td>\n",
       "      <td>0</td>\n",
       "      <td>-5.927</td>\n",
       "      <td>0.0475</td>\n",
       "      <td>0.08260</td>\n",
       "      <td>0.000745</td>\n",
       "      <td>0.0546</td>\n",
       "      <td>0.825</td>\n",
       "      <td>139.994</td>\n",
       "      <td>aint worried lyrics do not know what you have ...</td>\n",
       "      <td>happy</td>\n",
       "      <td>[aint, worried, lyrics, do, not, know, what, y...</td>\n",
       "      <td>[aint, worri, lyric, know, told, time, run, ne...</td>\n",
       "      <td>2</td>\n",
       "      <td>99.66</td>\n",
       "      <td>0</td>\n",
       "    </tr>\n",
       "    <tr>\n",
       "      <th>3</th>\n",
       "      <td>3</td>\n",
       "      <td>Blinding Lights</td>\n",
       "      <td>The Weeknd</td>\n",
       "      <td>0.514</td>\n",
       "      <td>0.730</td>\n",
       "      <td>1</td>\n",
       "      <td>-5.934</td>\n",
       "      <td>0.0598</td>\n",
       "      <td>0.00146</td>\n",
       "      <td>0.000095</td>\n",
       "      <td>0.0897</td>\n",
       "      <td>0.334</td>\n",
       "      <td>171.005</td>\n",
       "      <td>translationstürkçesvenskaespañolslovenčinaрусс...</td>\n",
       "      <td>happy</td>\n",
       "      <td>[translationstürkçesvenskaespañolslovenčinaрус...</td>\n",
       "      <td>[translationstürkçesvenskaespañolslovenčinaрус...</td>\n",
       "      <td>1</td>\n",
       "      <td>10.68</td>\n",
       "      <td>0</td>\n",
       "    </tr>\n",
       "    <tr>\n",
       "      <th>4</th>\n",
       "      <td>4</td>\n",
       "      <td>Watermelon Sugar</td>\n",
       "      <td>Harry Styles</td>\n",
       "      <td>0.548</td>\n",
       "      <td>0.816</td>\n",
       "      <td>0</td>\n",
       "      <td>-4.209</td>\n",
       "      <td>0.0465</td>\n",
       "      <td>0.12200</td>\n",
       "      <td>0.000000</td>\n",
       "      <td>0.3350</td>\n",
       "      <td>0.557</td>\n",
       "      <td>95.390</td>\n",
       "      <td>translationsdeutschtürkçeespañolportuguêspolsk...</td>\n",
       "      <td>happy</td>\n",
       "      <td>[translationsdeutschtürkçeespañolportuguêspols...</td>\n",
       "      <td>[translationsdeutschtürkçeespañolportuguêspols...</td>\n",
       "      <td>2</td>\n",
       "      <td>97.29</td>\n",
       "      <td>0</td>\n",
       "    </tr>\n",
       "  </tbody>\n",
       "</table>\n",
       "</div>"
      ],
      "text/plain": [
       "   Unnamed: 0             track         artists  danceability  energy  key  \\\n",
       "0           0   I'm Good (Blue)    David Guetta         0.561   0.965    7   \n",
       "1           1     Made You Look  Meghan Trainor         0.838   0.525   10   \n",
       "2           2   I Ain't Worried     OneRepublic         0.704   0.797    0   \n",
       "3           3   Blinding Lights      The Weeknd         0.514   0.730    1   \n",
       "4           4  Watermelon Sugar    Harry Styles         0.548   0.816    0   \n",
       "\n",
       "   loudness  speechiness  acousticness  instrumentalness  liveness  valence  \\\n",
       "0    -3.673       0.0343       0.00383          0.000007    0.3710    0.304   \n",
       "1    -3.562       0.0665       0.34500          0.000002    0.0771    0.884   \n",
       "2    -5.927       0.0475       0.08260          0.000745    0.0546    0.825   \n",
       "3    -5.934       0.0598       0.00146          0.000095    0.0897    0.334   \n",
       "4    -4.209       0.0465       0.12200          0.000000    0.3350    0.557   \n",
       "\n",
       "     tempo                                             lyrics   mood  \\\n",
       "0  128.040  translationsportuguêsi am good blue lyrics am ...  happy   \n",
       "1  144.981  made you look lyrics could have my gucci on co...  happy   \n",
       "2  139.994  aint worried lyrics do not know what you have ...  happy   \n",
       "3  171.005  translationstürkçesvenskaespañolslovenčinaрусс...  happy   \n",
       "4   95.390  translationsdeutschtürkçeespañolportuguêspolsk...  happy   \n",
       "\n",
       "                                       lyrics_tokens  \\\n",
       "0  [translationsportuguêsi, am, good, blue, lyric...   \n",
       "1  [made, you, look, lyrics, could, have, my, guc...   \n",
       "2  [aint, worried, lyrics, do, not, know, what, y...   \n",
       "3  [translationstürkçesvenskaespañolslovenčinaрус...   \n",
       "4  [translationsdeutschtürkçeespañolportuguêspols...   \n",
       "\n",
       "                         lyrics_tokens_preprocessing  Sentiment  \\\n",
       "0  [translationsportuguêsi, good, blue, lyric, go...          2   \n",
       "1  [made, look, lyric, could, gucci, could, wear,...          2   \n",
       "2  [aint, worri, lyric, know, told, time, run, ne...          2   \n",
       "3  [translationstürkçesvenskaespañolslovenčinaрус...          1   \n",
       "4  [translationsdeutschtürkçeespañolportuguêspols...          2   \n",
       "\n",
       "   Sentiment_Score  mood_encoded  \n",
       "0            99.79             0  \n",
       "1            77.83             0  \n",
       "2            99.66             0  \n",
       "3            10.68             0  \n",
       "4            97.29             0  "
      ]
     },
     "execution_count": 146,
     "metadata": {},
     "output_type": "execute_result"
    }
   ],
   "source": [
    "df.head()"
   ]
  },
  {
   "cell_type": "code",
   "execution_count": 147,
   "metadata": {},
   "outputs": [],
   "source": [
    "corpus = []\n",
    "for sentence in df['lyrics']:\n",
    "    corpus.append(sentence)"
   ]
  },
  {
   "cell_type": "markdown",
   "metadata": {},
   "source": [
    "countvecterizer"
   ]
  },
  {
   "cell_type": "code",
   "execution_count": 148,
   "metadata": {},
   "outputs": [],
   "source": [
    "from sklearn.feature_extraction.text import CountVectorizer\n",
    "cv = CountVectorizer(ngram_range=(1,2))\n",
    "X = cv.fit_transform(corpus).toarray()\n",
    "y = df.iloc[:, -3].values"
   ]
  },
  {
   "cell_type": "markdown",
   "metadata": {},
   "source": [
    "GNB"
   ]
  },
  {
   "cell_type": "code",
   "execution_count": 149,
   "metadata": {},
   "outputs": [
    {
     "data": {
      "text/html": [
       "<style>#sk-container-id-6 {color: black;background-color: white;}#sk-container-id-6 pre{padding: 0;}#sk-container-id-6 div.sk-toggleable {background-color: white;}#sk-container-id-6 label.sk-toggleable__label {cursor: pointer;display: block;width: 100%;margin-bottom: 0;padding: 0.3em;box-sizing: border-box;text-align: center;}#sk-container-id-6 label.sk-toggleable__label-arrow:before {content: \"▸\";float: left;margin-right: 0.25em;color: #696969;}#sk-container-id-6 label.sk-toggleable__label-arrow:hover:before {color: black;}#sk-container-id-6 div.sk-estimator:hover label.sk-toggleable__label-arrow:before {color: black;}#sk-container-id-6 div.sk-toggleable__content {max-height: 0;max-width: 0;overflow: hidden;text-align: left;background-color: #f0f8ff;}#sk-container-id-6 div.sk-toggleable__content pre {margin: 0.2em;color: black;border-radius: 0.25em;background-color: #f0f8ff;}#sk-container-id-6 input.sk-toggleable__control:checked~div.sk-toggleable__content {max-height: 200px;max-width: 100%;overflow: auto;}#sk-container-id-6 input.sk-toggleable__control:checked~label.sk-toggleable__label-arrow:before {content: \"▾\";}#sk-container-id-6 div.sk-estimator input.sk-toggleable__control:checked~label.sk-toggleable__label {background-color: #d4ebff;}#sk-container-id-6 div.sk-label input.sk-toggleable__control:checked~label.sk-toggleable__label {background-color: #d4ebff;}#sk-container-id-6 input.sk-hidden--visually {border: 0;clip: rect(1px 1px 1px 1px);clip: rect(1px, 1px, 1px, 1px);height: 1px;margin: -1px;overflow: hidden;padding: 0;position: absolute;width: 1px;}#sk-container-id-6 div.sk-estimator {font-family: monospace;background-color: #f0f8ff;border: 1px dotted black;border-radius: 0.25em;box-sizing: border-box;margin-bottom: 0.5em;}#sk-container-id-6 div.sk-estimator:hover {background-color: #d4ebff;}#sk-container-id-6 div.sk-parallel-item::after {content: \"\";width: 100%;border-bottom: 1px solid gray;flex-grow: 1;}#sk-container-id-6 div.sk-label:hover label.sk-toggleable__label {background-color: #d4ebff;}#sk-container-id-6 div.sk-serial::before {content: \"\";position: absolute;border-left: 1px solid gray;box-sizing: border-box;top: 0;bottom: 0;left: 50%;z-index: 0;}#sk-container-id-6 div.sk-serial {display: flex;flex-direction: column;align-items: center;background-color: white;padding-right: 0.2em;padding-left: 0.2em;position: relative;}#sk-container-id-6 div.sk-item {position: relative;z-index: 1;}#sk-container-id-6 div.sk-parallel {display: flex;align-items: stretch;justify-content: center;background-color: white;position: relative;}#sk-container-id-6 div.sk-item::before, #sk-container-id-6 div.sk-parallel-item::before {content: \"\";position: absolute;border-left: 1px solid gray;box-sizing: border-box;top: 0;bottom: 0;left: 50%;z-index: -1;}#sk-container-id-6 div.sk-parallel-item {display: flex;flex-direction: column;z-index: 1;position: relative;background-color: white;}#sk-container-id-6 div.sk-parallel-item:first-child::after {align-self: flex-end;width: 50%;}#sk-container-id-6 div.sk-parallel-item:last-child::after {align-self: flex-start;width: 50%;}#sk-container-id-6 div.sk-parallel-item:only-child::after {width: 0;}#sk-container-id-6 div.sk-dashed-wrapped {border: 1px dashed gray;margin: 0 0.4em 0.5em 0.4em;box-sizing: border-box;padding-bottom: 0.4em;background-color: white;}#sk-container-id-6 div.sk-label label {font-family: monospace;font-weight: bold;display: inline-block;line-height: 1.2em;}#sk-container-id-6 div.sk-label-container {text-align: center;}#sk-container-id-6 div.sk-container {/* jupyter's `normalize.less` sets `[hidden] { display: none; }` but bootstrap.min.css set `[hidden] { display: none !important; }` so we also need the `!important` here to be able to override the default hidden behavior on the sphinx rendered scikit-learn.org. See: https://github.com/scikit-learn/scikit-learn/issues/21755 */display: inline-block !important;position: relative;}#sk-container-id-6 div.sk-text-repr-fallback {display: none;}</style><div id=\"sk-container-id-6\" class=\"sk-top-container\"><div class=\"sk-text-repr-fallback\"><pre>GaussianNB()</pre><b>In a Jupyter environment, please rerun this cell to show the HTML representation or trust the notebook. <br />On GitHub, the HTML representation is unable to render, please try loading this page with nbviewer.org.</b></div><div class=\"sk-container\" hidden><div class=\"sk-item\"><div class=\"sk-estimator sk-toggleable\"><input class=\"sk-toggleable__control sk-hidden--visually\" id=\"sk-estimator-id-6\" type=\"checkbox\" checked><label for=\"sk-estimator-id-6\" class=\"sk-toggleable__label sk-toggleable__label-arrow\">GaussianNB</label><div class=\"sk-toggleable__content\"><pre>GaussianNB()</pre></div></div></div></div></div>"
      ],
      "text/plain": [
       "GaussianNB()"
      ]
     },
     "execution_count": 149,
     "metadata": {},
     "output_type": "execute_result"
    }
   ],
   "source": [
    "from sklearn.naive_bayes import GaussianNB\n",
    "from sklearn.model_selection import train_test_split\n",
    "X_train, X_test, y_train, y_test = train_test_split(X, y, test_size=0.3, random_state=42)\n",
    "classifier = GaussianNB()\n",
    "classifier.fit(X_train, y_train)"
   ]
  },
  {
   "cell_type": "code",
   "execution_count": 150,
   "metadata": {},
   "outputs": [
    {
     "data": {
      "text/plain": [
       "array([[ 1,  0, 13],\n",
       "       [ 0,  0,  2],\n",
       "       [ 2,  0, 41]], dtype=int64)"
      ]
     },
     "execution_count": 150,
     "metadata": {},
     "output_type": "execute_result"
    }
   ],
   "source": [
    "from sklearn.metrics import confusion_matrix, accuracy_score\n",
    "y_pred = classifier.predict(X_test)\n",
    "cm = confusion_matrix(y_test, y_pred)\n",
    "cm"
   ]
  },
  {
   "cell_type": "code",
   "execution_count": 151,
   "metadata": {},
   "outputs": [
    {
     "name": "stdout",
     "output_type": "stream",
     "text": [
      "accuracy 0.711864406779661\n"
     ]
    }
   ],
   "source": [
    "nb_score = accuracy_score(y_test, y_pred)\n",
    "print('accuracy',nb_score)"
   ]
  },
  {
   "cell_type": "code",
   "execution_count": 160,
   "metadata": {},
   "outputs": [],
   "source": [
    "from transformers import pipeline"
   ]
  },
  {
   "cell_type": "code",
   "execution_count": 161,
   "metadata": {},
   "outputs": [
    {
     "name": "stderr",
     "output_type": "stream",
     "text": [
      "No model was supplied, defaulted to distilbert-base-uncased-finetuned-sst-2-english and revision af0f99b (https://huggingface.co/distilbert-base-uncased-finetuned-sst-2-english).\n",
      "Using a pipeline without specifying a model name and revision in production is not recommended.\n"
     ]
    },
    {
     "data": {
      "application/vnd.jupyter.widget-view+json": {
       "model_id": "89099ff758164bd7946c7e70a89c3e16",
       "version_major": 2,
       "version_minor": 0
      },
      "text/plain": [
       "Downloading:   0%|          | 0.00/629 [00:00<?, ?B/s]"
      ]
     },
     "metadata": {},
     "output_type": "display_data"
    },
    {
     "name": "stderr",
     "output_type": "stream",
     "text": [
      "c:\\Python39\\lib\\site-packages\\huggingface_hub\\file_download.py:127: UserWarning: `huggingface_hub` cache-system uses symlinks by default to efficiently store duplicated files but your machine does not support them in C:\\Users\\91635\\.cache\\huggingface\\hub. Caching files will still work but in a degraded version that might require more space on your disk. This warning can be disabled by setting the `HF_HUB_DISABLE_SYMLINKS_WARNING` environment variable. For more details, see https://huggingface.co/docs/huggingface_hub/how-to-cache#limitations.\n",
      "To support symlinks on Windows, you either need to activate Developer Mode or to run Python as an administrator. In order to see activate developer mode, see this article: https://docs.microsoft.com/en-us/windows/apps/get-started/enable-your-device-for-development\n",
      "  warnings.warn(message)\n"
     ]
    },
    {
     "ename": "RuntimeError",
     "evalue": "At least one of TensorFlow 2.0 or PyTorch should be installed. To install TensorFlow 2.0, read the instructions at https://www.tensorflow.org/install/ To install PyTorch, read the instructions at https://pytorch.org/.",
     "output_type": "error",
     "traceback": [
      "\u001b[1;31m---------------------------------------------------------------------------\u001b[0m",
      "\u001b[1;31mRuntimeError\u001b[0m                              Traceback (most recent call last)",
      "\u001b[1;32m~\\AppData\\Local\\Temp/ipykernel_15664/2089602.py\u001b[0m in \u001b[0;36m<module>\u001b[1;34m\u001b[0m\n\u001b[1;32m----> 1\u001b[1;33m \u001b[0msent_pl\u001b[0m \u001b[1;33m=\u001b[0m \u001b[0mpipeline\u001b[0m\u001b[1;33m(\u001b[0m\u001b[1;34m\"sentiment-analysis\"\u001b[0m\u001b[1;33m)\u001b[0m\u001b[1;33m\u001b[0m\u001b[1;33m\u001b[0m\u001b[0m\n\u001b[0m",
      "\u001b[1;32mc:\\Python39\\lib\\site-packages\\transformers\\pipelines\\__init__.py\u001b[0m in \u001b[0;36mpipeline\u001b[1;34m(task, model, config, tokenizer, feature_extractor, framework, revision, use_fast, use_auth_token, device, device_map, torch_dtype, trust_remote_code, model_kwargs, pipeline_class, **kwargs)\u001b[0m\n\u001b[0;32m    722\u001b[0m     \u001b[1;31m# Will load the correct model if possible\u001b[0m\u001b[1;33m\u001b[0m\u001b[1;33m\u001b[0m\u001b[0m\n\u001b[0;32m    723\u001b[0m     \u001b[0mmodel_classes\u001b[0m \u001b[1;33m=\u001b[0m \u001b[1;33m{\u001b[0m\u001b[1;34m\"tf\"\u001b[0m\u001b[1;33m:\u001b[0m \u001b[0mtargeted_task\u001b[0m\u001b[1;33m[\u001b[0m\u001b[1;34m\"tf\"\u001b[0m\u001b[1;33m]\u001b[0m\u001b[1;33m,\u001b[0m \u001b[1;34m\"pt\"\u001b[0m\u001b[1;33m:\u001b[0m \u001b[0mtargeted_task\u001b[0m\u001b[1;33m[\u001b[0m\u001b[1;34m\"pt\"\u001b[0m\u001b[1;33m]\u001b[0m\u001b[1;33m}\u001b[0m\u001b[1;33m\u001b[0m\u001b[1;33m\u001b[0m\u001b[0m\n\u001b[1;32m--> 724\u001b[1;33m     framework, model = infer_framework_load_model(\n\u001b[0m\u001b[0;32m    725\u001b[0m         \u001b[0mmodel\u001b[0m\u001b[1;33m,\u001b[0m\u001b[1;33m\u001b[0m\u001b[1;33m\u001b[0m\u001b[0m\n\u001b[0;32m    726\u001b[0m         \u001b[0mmodel_classes\u001b[0m\u001b[1;33m=\u001b[0m\u001b[0mmodel_classes\u001b[0m\u001b[1;33m,\u001b[0m\u001b[1;33m\u001b[0m\u001b[1;33m\u001b[0m\u001b[0m\n",
      "\u001b[1;32mc:\\Python39\\lib\\site-packages\\transformers\\pipelines\\base.py\u001b[0m in \u001b[0;36minfer_framework_load_model\u001b[1;34m(model, config, model_classes, task, framework, **model_kwargs)\u001b[0m\n\u001b[0;32m    207\u001b[0m     \"\"\"\n\u001b[0;32m    208\u001b[0m     \u001b[1;32mif\u001b[0m \u001b[1;32mnot\u001b[0m \u001b[0mis_tf_available\u001b[0m\u001b[1;33m(\u001b[0m\u001b[1;33m)\u001b[0m \u001b[1;32mand\u001b[0m \u001b[1;32mnot\u001b[0m \u001b[0mis_torch_available\u001b[0m\u001b[1;33m(\u001b[0m\u001b[1;33m)\u001b[0m\u001b[1;33m:\u001b[0m\u001b[1;33m\u001b[0m\u001b[1;33m\u001b[0m\u001b[0m\n\u001b[1;32m--> 209\u001b[1;33m         raise RuntimeError(\n\u001b[0m\u001b[0;32m    210\u001b[0m             \u001b[1;34m\"At least one of TensorFlow 2.0 or PyTorch should be installed. \"\u001b[0m\u001b[1;33m\u001b[0m\u001b[1;33m\u001b[0m\u001b[0m\n\u001b[0;32m    211\u001b[0m             \u001b[1;34m\"To install TensorFlow 2.0, read the instructions at https://www.tensorflow.org/install/ \"\u001b[0m\u001b[1;33m\u001b[0m\u001b[1;33m\u001b[0m\u001b[0m\n",
      "\u001b[1;31mRuntimeError\u001b[0m: At least one of TensorFlow 2.0 or PyTorch should be installed. To install TensorFlow 2.0, read the instructions at https://www.tensorflow.org/install/ To install PyTorch, read the instructions at https://pytorch.org/."
     ]
    }
   ],
   "source": [
    "sent_pl = pipeline(\"sentiment-analysis\")"
   ]
  },
  {
   "cell_type": "code",
   "execution_count": null,
   "metadata": {},
   "outputs": [],
   "source": []
  }
 ],
 "metadata": {
  "kernelspec": {
   "display_name": "Python 3.9.10 64-bit",
   "language": "python",
   "name": "python3"
  },
  "language_info": {
   "codemirror_mode": {
    "name": "ipython",
    "version": 3
   },
   "file_extension": ".py",
   "mimetype": "text/x-python",
   "name": "python",
   "nbconvert_exporter": "python",
   "pygments_lexer": "ipython3",
   "version": "3.9.10"
  },
  "orig_nbformat": 4,
  "vscode": {
   "interpreter": {
    "hash": "81794d4967e6c3204c66dcd87b604927b115b27c00565d3d43f05ba2f3a2cb0d"
   }
  }
 },
 "nbformat": 4,
 "nbformat_minor": 2
}
