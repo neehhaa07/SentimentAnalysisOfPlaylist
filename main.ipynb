{
 "cells": [
  {
   "cell_type": "code",
   "execution_count": null,
   "metadata": {},
   "outputs": [],
   "source": [
    "import os\n",
    "import pandas as pd\n",
    "import lyricsgenius as lg\n",
    "import spotipy\n",
    "import time"
   ]
  },
  {
   "cell_type": "markdown",
   "metadata": {},
   "source": [
    "#### All tokens"
   ]
  },
  {
   "cell_type": "code",
   "execution_count": null,
   "metadata": {},
   "outputs": [],
   "source": [
    "spotipy_client_id = 'c3e43077142f4e7bb70601747bd1f0d2'\n",
    "spotipy_client_secret = '925f7025c8e6420f9be665401784c0f6'\n",
    "spotipy_redirect_uri = 'https://google.com'\n",
    "genius_access_token = 'jVHnDFkBvrvEsj_M8YUxbQ9t8mo2zIG19giBxlX_g7NeRz4W51gedM1YHTBX_U-4'"
   ]
  },
  {
   "cell_type": "markdown",
   "metadata": {},
   "source": [
    "#### Fetching the track data"
   ]
  },
  {
   "cell_type": "code",
   "execution_count": null,
   "metadata": {},
   "outputs": [],
   "source": [
    "from spotipy.oauth2 import SpotifyClientCredentials\n",
    "\n",
    "client_credentials_manager = SpotifyClientCredentials (spotipy_client_id, spotipy_client_secret)\n",
    "sp=spotipy.Spotify(client_credentials_manager=client_credentials_manager)\n",
    "\n",
    "# Function to extract all the track ids from your playlist\n",
    "def get_track_ids(playlist_id):\n",
    "  music_id_list = []\n",
    "  playlist = sp.playlist(playlist_id)\n",
    "  for item in playlist['tracks']['items']:\n",
    "    music_track = item['track']\n",
    "    music_id_list.append(music_track['id'])\n",
    "  return music_id_list\n",
    "\n",
    "# Function to extract all the details of each track by passing its id\n",
    "def get_track_data(track_id):\n",
    "  meta = sp.track(track_id)\n",
    "  track_details = {\"name\": meta['name'], \"album\": meta['album']['name'],\n",
    "  \"artist\": meta['album']['artists'][0]['name']}\n",
    "\n",
    "  return track_details"
   ]
  },
  {
   "cell_type": "markdown",
   "metadata": {},
   "source": [
    "#### Fetching details of songs in given playlist"
   ]
  },
  {
   "cell_type": "code",
   "execution_count": null,
   "metadata": {},
   "outputs": [],
   "source": [
    "# Get the ids for all the songs in your playlist\n",
    "playlist_id = input('Enter the playlist id')\n",
    "track_ids = get_track_ids (playlist_id)\n",
    "\n",
    "# loop over track ids and get their data points\n",
    "tracks = []\n",
    "for i in range (len (track_ids)):\n",
    "  time.sleep(.5)\n",
    "  track = get_track_data(track_ids[i])\n",
    "  tracks.append(track)\n"
   ]
  },
  {
   "cell_type": "markdown",
   "metadata": {},
   "source": [
    "#### Forming dataframe of track data"
   ]
  },
  {
   "cell_type": "code",
   "execution_count": null,
   "metadata": {},
   "outputs": [],
   "source": [
    "df1 = pd.DataFrame.from_dict(tracks)"
   ]
  },
  {
   "cell_type": "markdown",
   "metadata": {},
   "source": [
    "#### Using genius api for lyrics"
   ]
  },
  {
   "cell_type": "code",
   "execution_count": null,
   "metadata": {},
   "outputs": [],
   "source": [
    "genius = lg.Genius(genius_access_token)"
   ]
  },
  {
   "cell_type": "code",
   "execution_count": null,
   "metadata": {},
   "outputs": [],
   "source": [
    "l=[]\n",
    "for i in range(len(df1['name'])):\n",
    "  song = genius.search_song(title=df1['name'][i],artist=df1['artist'][i])\n",
    "  lyrics = song.lyrics\n",
    "  if song != None:\n",
    "    l.append(lyrics)\n",
    "\n",
    "lyrics_df = pd.DataFrame()\n",
    "lyrics_df['lyrics'] = l"
   ]
  },
  {
   "cell_type": "markdown",
   "metadata": {},
   "source": [
    "#### Joining both Data frames"
   ]
  },
  {
   "cell_type": "code",
   "execution_count": null,
   "metadata": {},
   "outputs": [],
   "source": [
    "# join both data frames\n",
    "df = pd.concat([df1, lyrics_df], axis=1, join='inner')\n",
    "df"
   ]
  },
  {
   "cell_type": "code",
   "execution_count": null,
   "metadata": {},
   "outputs": [],
   "source": []
  },
  {
   "cell_type": "code",
   "execution_count": null,
   "metadata": {},
   "outputs": [],
   "source": []
  }
 ],
 "metadata": {
  "kernelspec": {
   "display_name": "Python 3.9.10 64-bit",
   "language": "python",
   "name": "python3"
  },
  "language_info": {
   "codemirror_mode": {
    "name": "ipython",
    "version": 3
   },
   "file_extension": ".py",
   "mimetype": "text/x-python",
   "name": "python",
   "nbconvert_exporter": "python",
   "pygments_lexer": "ipython3",
   "version": "3.9.10"
  },
  "orig_nbformat": 4,
  "vscode": {
   "interpreter": {
    "hash": "81794d4967e6c3204c66dcd87b604927b115b27c00565d3d43f05ba2f3a2cb0d"
   }
  }
 },
 "nbformat": 4,
 "nbformat_minor": 2
}
